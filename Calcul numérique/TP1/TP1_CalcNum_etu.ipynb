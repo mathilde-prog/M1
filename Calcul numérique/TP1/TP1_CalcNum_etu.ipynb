{
 "cells": [
  {
   "cell_type": "markdown",
   "metadata": {},
   "source": [
    "# Calcul numérique TP1\n",
    "\n",
    "## Partie 1 : Les bases en Python\n",
    "\n",
    "Ce TP a pour objectif de vous familiariser avec les commandes de base en Python, mais également de vous faire découvrir les outils de calcul matriciel (avec `numpy`) que nous allons utiliser sur l'ensemble des TPs de calcul numérique.\n",
    "\n",
    "Vous pouvez utiliser ce notebook directement pour y mettre vos éléments de code, vos commentaires et notes concernant l'ensemble de la séance."
   ]
  },
  {
   "cell_type": "markdown",
   "metadata": {},
   "source": [
    "### Exercice 1: les types et les conteneurs\n",
    "\n",
    "1) Vérifier les types des valeurs suivantes en exécutant la commande `type(4)`. Si certains de ces types sont encore inconnus, relire le cours sur les bases en python !\n",
    "\n",
    "`4; 4.0; -1; 2.4; None; a; ’hello’; \"hello\"; 0; True; False\n",
    "[1, 2]; [1, 2.4]; [’a’, ’b’]; (1,3,5); (\"a\", 2); {’one’:’un’, ’zero’:’zéro’}`"
   ]
  },
  {
   "cell_type": "code",
   "execution_count": 24,
   "metadata": {},
   "outputs": [
    {
     "name": "stdout",
     "output_type": "stream",
     "text": [
      "Type de 4 :  <class 'int'>\n",
      "Type de 4.0 : <class 'float'>\n",
      "Type de -1 :  <class 'int'>\n",
      "Type de 2.4 :  <class 'float'>\n",
      "Type de None :  <class 'NoneType'>\n",
      "Type de a :  <class 'int'>\n",
      "Type de 'hello' :  <class 'str'>\n",
      "Type de \"hello\" :  <class 'str'>\n",
      "Type de 0 : <class 'int'>\n",
      "Type de True :  <class 'bool'>\n",
      "Type de False :  <class 'bool'>\n",
      "Type de [1, 2] :  <class 'list'>\n",
      "Type de [1, 2.4] :  <class 'list'>\n",
      "Type de ['a', 'b'] :  <class 'list'>\n",
      "Type de (1, 3, 5) :  <class 'tuple'>\n",
      "Type de (\"a\", 2) :  <class 'tuple'>\n",
      "Type de {'one':'un', 'zero':'zéro'} :  <class 'dict'>\n"
     ]
    }
   ],
   "source": [
    "print(\"Type de 4 : \", type(4))\n",
    "print(\"Type de 4.0 :\", type(4.0))\n",
    "print(\"Type de -1 : \", type(-1))\n",
    "print(\"Type de 2.4 : \", type(2.4))\n",
    "print(\"Type de None : \", type(None))\n",
    "a = 12\n",
    "print(\"Type de a : \", type(a))\n",
    "print(\"Type de 'hello' : \", type('hello'))\n",
    "print(\"Type de \\\"hello\\\" : \", type(\"hello\"))\n",
    "print(\"Type de 0 :\", type(0))\n",
    "print(\"Type de True : \", type(True))\n",
    "print(\"Type de False : \", type(False))\n",
    "print(\"Type de [1, 2] : \", type([1,2]))\n",
    "print(\"Type de [1, 2.4] : \", type([1,2.4]))\n",
    "print(\"Type de ['a', 'b'] : \", type(['a','b']))\n",
    "print(\"Type de (1, 3, 5) : \", type((1,3,5)))\n",
    "print(\"Type de (\\\"a\\\", 2) : \", type((\"a\",2)))\n",
    "print(\"Type de {'one':'un', 'zero':'zéro'} : \", type({'one':'un','zero':'zero'}))"
   ]
  },
  {
   "cell_type": "markdown",
   "metadata": {},
   "source": [
    "2) Affecter les variables suivantes: `var_int = 1; var_float = 2.51; var_str = ’hello’; var_bool = True` \n",
    "\n",
    "Convertir les types de ces quatre variables en utilisant les fonctions `int(); float(); str(); bool()`. \n",
    "\n",
    "Vérifier les valeurs et les types obtenus après conversion.\n",
    "En particulier remarquer le résultat de `bool(var_int)` et `int(var_float)`.\n",
    "Vous pouvez bien sûr tester d’autres combinaisons, par curiosité."
   ]
  },
  {
   "cell_type": "code",
   "execution_count": null,
   "metadata": {},
   "outputs": [],
   "source": [
    "var_int = 1\n",
    "var_float = 2.51\n",
    "var_str = 'hello'\n",
    "var_bool = True\n",
    "\n",
    "print('Conversion int -> bool : ', bool(var_int))\n",
    "print('Conversion int -> float : ', float(var_int))\n",
    "print('Conversion int -> str : ', str(var_int))\n",
    "\n",
    "print('Conversion float -> int : ', int(var_float))\n",
    "print('Conversion float -> str : ', str(var_float))\n",
    "print('Conversion float -> bool : ', bool(var_float))\n",
    "\n",
    "print('Conversion str -> bool : ', bool(var_str))\n",
    "\n",
    "print('Conversion bool -> int : ', int(var_bool))\n",
    "print('Conversion bool -> float : ', float(var_bool))\n",
    "print('Conversion bool -> str : ', str(var_bool))"
   ]
  },
  {
   "cell_type": "markdown",
   "metadata": {},
   "source": [
    "3) Pour les variables `var` suivantes, donner les valeurs qu’elles contiennent (on pourra utiliser la commande `print(var)`) et  leur type. Faites d’autres propositions permettant d’obtenir le même contenu.\n",
    "\n",
    "Que retourne `var[2]` ? Quel effet a la commande `var[2] = 6`, pourquoi ? Si il y a une erreur, proposer une commande adaptée qui ne génère pas d’erreur."
   ]
  },
  {
   "cell_type": "code",
   "execution_count": null,
   "metadata": {},
   "outputs": [],
   "source": [
    "# LIST\n",
    "var = list(range(10))\n",
    "print('var : ', var, ', type : ', type(var))\n",
    "print('var[2] : ', var[2]) # retourne 2\n",
    "\n",
    "var[2] = 6 # Effet : Affectation\n",
    "\n",
    "# STR\n",
    "var = \"informatique\"\n",
    "print('var : ', var, ', type : ', type(var))\n",
    "print('var[2] : ', var[2]) # retourne f\n",
    "\n",
    "# var[2] = 6 # Erreur car pb de type (caractère attendu),\n",
    "var = list(var) # On transforme la chaine de caractères en liste. \n",
    "var[2] = 6\n",
    "\n",
    "# DICT\n",
    "var = {\"info\":3, \"maths\":5, \"musique\":10, \"foot\":7}\n",
    "print('var : ', var, ', type : ', type(var))\n",
    "# print('var[2] : ', var[2]) \n",
    "\n",
    "var[2] = 6\n",
    "\n"
   ]
  },
  {
   "cell_type": "markdown",
   "metadata": {},
   "source": [
    "### Exercice 2: les entrées / sorties"
   ]
  },
  {
   "cell_type": "markdown",
   "metadata": {},
   "source": [
    "1) Avec la fonction `input()`créer une variable `var`contenant une valeur qui aura été saisie à la main au clavier. Afficher cette variable avec la fonction `print`. Cette approche sera surtout utile lorsque vous utiliserez un script."
   ]
  },
  {
   "cell_type": "code",
   "execution_count": null,
   "metadata": {},
   "outputs": [],
   "source": [
    "var = input()\n",
    "print(var)\n",
    "print(type(var))"
   ]
  },
  {
   "cell_type": "markdown",
   "metadata": {},
   "source": [
    "2) Créer un fichier (avec `vim` par exemple) contenant le texte suivant:\n",
    "\n",
    "`MAN: Mise à niveau\n",
    "INFO: Master d'informatique`\n",
    "\n",
    "- [ ] ouvrir ce fichier avec la commande ci-dessous et les arguments appropriés. Afficher les lignes les unes après les autres.\n",
    "- [ ] écrire ensuite une troisième ligne dans le fichier précédent avec la fonction `write()` contenant:\n",
    "\n",
    "`M1: première année de master`\n",
    "\n",
    "Attention de pas oublier de **refermer** le fichier après l'avoir ouvert."
   ]
  },
  {
   "cell_type": "code",
   "execution_count": null,
   "metadata": {},
   "outputs": [],
   "source": [
    "f = open('texte.txt', 'r', encoding = 'utf8')\n",
    "\n",
    "# Pour afficher les lignes les unes après les autres \n",
    "for line in f:\n",
    "    print(line) \n",
    "    \n",
    "f.close()\n",
    "\n",
    "f = open('texte.txt', 'a', encoding = 'utf8') # 'a' pour écrite une nouvelle ligne à la suite\n",
    "f.write('M1: première année de master\\n') \n",
    "f.close()"
   ]
  },
  {
   "cell_type": "markdown",
   "metadata": {},
   "source": [
    "### Exercice 3: écrire des fonctions en Python\n",
    "\n",
    "Vous avez à disposition un dictionnaire de prononciations phonétiques. Une prononciation est une séquence de symboles phonétiques séparés par des espaces. Pour chaque ligne, vous disposez d’un mot, de sa prononci- ation phonétique donnée selon l’alphabet X-Sampa et de sa prononciation phonétique donnée selon l’alphabet IPA. Vous ne considérerez que la prononciation donnée en X-Sampa. Les mots et les prononciations sont séparées par des point-virgules.\n",
    "\n",
    "**Préliminaire**\n",
    "Le code ci-dessous vous permet d'afficher une chaine de caractère. Vérifier que la chaine de caractère s'affiche correctement."
   ]
  },
  {
   "cell_type": "code",
   "execution_count": null,
   "metadata": {},
   "outputs": [],
   "source": [
    "ma_chaine = 'Hello World'\n",
    "print(ma_chaine)"
   ]
  },
  {
   "cell_type": "markdown",
   "metadata": {},
   "source": [
    "1) Ouvrir le fichier de prononciation `synpaflex-pronunciation-dictionary.txt` et afficher les $n$ premières lignes du fichier (équivalent de la commande unix `head`).\n",
    "Pourquoi y a-t-il une ligne vide entre chaque affichage ? Corriger cela avec la fonction `strip()`."
   ]
  },
  {
   "cell_type": "code",
   "execution_count": null,
   "metadata": {},
   "outputs": [],
   "source": [
    "f = open('synpaflex-pronunciation-dictionary.txt', 'r')\n",
    "n = int(input()) # Saisie du n \n",
    "\n",
    "for i in range(n):\n",
    "    print(f.readline().strip()) # strip permet de supprimer la ligne vide entre chaque affichage \n",
    "\n",
    "f.close()"
   ]
  },
  {
   "cell_type": "markdown",
   "metadata": {},
   "source": [
    "2) Créer une fonction `ReadPron(name)` prenant en argument le nom du fichier de pronciation. Cette fonction lit l'ensemble du fichier de prononciation, stocke les lignes une à une dans un dictionnaire et retourne ce dictionnaire. Les clés seront les mots. Les valeurs seront des prononciations suivant l’alphabet X-SAMPA. Penser à supprimer les espaces en début et fin de chaîne de caractère."
   ]
  },
  {
   "cell_type": "code",
   "execution_count": null,
   "metadata": {},
   "outputs": [],
   "source": [
    "def ReadPron(name):\n",
    "    f = open(name, 'r')\n",
    "    dicPron = {}\n",
    "    for line in f: \n",
    "        chaine = line.strip().split(';')\n",
    "        mot = chaine[0] # Récupère le mot \n",
    "        prononciation = chaine[1] # Récupère la prononciation \n",
    "        dicPron[mot] = prononciation # Stocke dans le dictionnaire \n",
    "    return dicPron\n",
    "\n",
    "DicPron = ReadPron('synpaflex-pronunciation-dictionary.txt')\n",
    "print(DicPron) # Affichage du dictionnaire"
   ]
  },
  {
   "cell_type": "markdown",
   "metadata": {},
   "source": [
    "3) Créer une fonction `AfficherPron(m, dicPron)` qui prend en argument un mot et le dictionnaire fourni par la fonction précédente et affiche à l'écran la prononciation correspondante à ce mot. \n",
    "\n",
    "Attention au cas où le mot ne serait pas dans le dictionnaire.\n",
    "\n",
    "- [ ] donner la pronciation du mot _abandonna_"
   ]
  },
  {
   "cell_type": "code",
   "execution_count": null,
   "metadata": {},
   "outputs": [],
   "source": [
    "def ReadPron(name):\n",
    "    f = open(name, 'r')\n",
    "    dicPron = {}\n",
    "    for line in f: \n",
    "        chaine = line.strip().split(';')\n",
    "        mot = chaine[0] # Récupère le mot \n",
    "        prononciation = chaine[1] # Récupère la prononciation \n",
    "        dicPron[mot] = prononciation # Stocke dans le dictionnaire \n",
    "    return dicPron\n",
    "\n",
    "def AfficherPron(m, dicPron):\n",
    "    if m in dicPron: # Cas où le mot est dans le dictionnaire \n",
    "        print(dicPron.get(m)) # get pour récupérer le mot \n",
    "    else:\n",
    "        print(m, \" n'est pas dans le dictionnaire\")\n",
    "    \n",
    "DicPron = ReadPron('synpaflex-pronunciation-dictionary.txt')\n",
    "DicPron = AfficherPron('abandonna', DicPron)"
   ]
  },
  {
   "cell_type": "markdown",
   "metadata": {},
   "source": [
    "4) Créer une fonction `AfficherMots(p, dicPron)` qui stocke dans une liste l'ensemble des mots qui ont une prononciation donnée, les compte et les affiche.\n",
    "\n",
    "- [ ] donner l'ensemble des mots qui se prononcent \"/k u l e/\". **Attention** il faut respecter la syntaxe du fichier de prononciation."
   ]
  },
  {
   "cell_type": "code",
   "execution_count": null,
   "metadata": {},
   "outputs": [],
   "source": [
    "def AfficherMots(p, dicPron):\n",
    "    mots = []\n",
    "    cpt = 0\n",
    "    for cle, valeur in dicPron.items(): \n",
    "        if valeur == p:\n",
    "            mots.append(cle)\n",
    "    \n",
    "    print (\"cpt : \", len(mots)) # Longueur de l'ensemble\n",
    "    return mots\n",
    "\n",
    "def ReadPron(name):\n",
    "    f = open(name, 'r')\n",
    "    dicPron = {}\n",
    "    for line in f: \n",
    "        chaine = line.strip().split(';')\n",
    "        mot = chaine[0] # Récupère le mot \n",
    "        prononciation = chaine[1] # Récupère la prononciation \n",
    "        dicPron[mot] = prononciation # Stocke dans le dictionnaire \n",
    "    return dicPron\n",
    "\n",
    "DicPron = ReadPron('synpaflex-pronunciation-dictionary.txt')\n",
    "motsLi = AfficherMots(' k u l e', DicPron)\n",
    "print(motsLi)"
   ]
  },
  {
   "cell_type": "markdown",
   "metadata": {},
   "source": [
    "---\n",
    "## Partie 2: Utilisation de Numpy pour le calcul vectoriel\n",
    "\n",
    "Numpy est un module Python pour le calcul numérique. Il est écrit en C. On l'utilise principalement pour le calcul matriciel, le traitement de données multi-dimensionnelles. C'est un outil de base pour le **machine learning**.\n",
    "\n",
    "Une matrice est une structure de données en forme tableau à 2 dimensions disposée en colonnes et en lignes. La matrice ci dessous est composée de 4 colonnes et 3 lignes:\n",
    "$$\\begin{bmatrix}\n",
    "2 & -5& -11 & 0 \\\\ -10 & 4 & 6 & 13 \\\\ 4 & 7 & 12 & -2\n",
    "\\end{bmatrix}$$"
   ]
  },
  {
   "cell_type": "code",
   "execution_count": null,
   "metadata": {},
   "outputs": [],
   "source": [
    "import numpy as np\n",
    "np.array([[2, -5, -11, 0], \n",
    "    [-10, 4, 6, 13],\n",
    "    [4, 7, 12, -2]])"
   ]
  },
  {
   "cell_type": "markdown",
   "metadata": {},
   "source": [
    "### Exercice 1: Prise en main\n",
    "\n",
    "1) Cette librairie permet de faire des opérations rapides sur les vecteurs et les matrices qu'on appelle des `array`. Tous les éléments d'un tableau (ou array) sont du même type. \n",
    "- [ ] Afficher les types des variables suivantes.\n",
    "- [ ] Comment fonctionne le typage des éléments d'un array ?"
   ]
  },
  {
   "cell_type": "code",
   "execution_count": null,
   "metadata": {},
   "outputs": [],
   "source": [
    "lst = [2, 3, 4, 1]\n",
    "print('le type d une liste python est: ', type(lst))\n",
    "a = np.array(lst)\n",
    "print('le type d un array est: ', type(a))\n",
    "print('le type des éléments de lst est: ', type(a[0]))\n",
    "b = np.array([2.0, 3, 4, 1])\n",
    "print('le type des éléments de lst est: ', type(b[2]))\n",
    "c = np.array(lst, dtype = complex)\n",
    "print('On peut modifier le type des éléments d un array: ', type(c[0]))"
   ]
  },
  {
   "cell_type": "markdown",
   "metadata": {},
   "source": [
    "2) Un **vecteur** est un array de dimension 1. Une **matrice** est un array de dimension 2. On peut vérifier la dimension avec l'attribut `shape`. \n",
    "- [ ] Afficher les dimensions des arrays A et B suivantes.\n",
    "- [ ] Afficher le type des éléments de B.\n",
    "- [ ] Modifier le type de B pour que tous ses éléments soient des entiers.\n",
    "- [ ] Modifier la matrice diagonale pour tous ses éléments soient des booléens.\n",
    "- [ ] Peut-on faire cette dernière opération sur la matrice B ? Pourquoi"
   ]
  },
  {
   "cell_type": "code",
   "execution_count": null,
   "metadata": {},
   "outputs": [],
   "source": [
    "A = np.array([1,2,3,4])\n",
    "print (\"Dimension array A : \", A.shape)\n",
    "print (\"Type des éléments de A : \", A.dtype)\n",
    "\n",
    "B = np.array([[1,2,3,4],[5,6,7,8]])\n",
    "print (\"Dimension array B : \", B.shape)\n",
    "print (\"Type des éléments de B : \", B.dtype)"
   ]
  },
  {
   "cell_type": "markdown",
   "metadata": {},
   "source": [
    "L'une des puissances de numpy est de pouvoir faire des opérations rapidement en utilisant les indices de chacun de ses éléments (slicing).\n",
    "- [ ] Indiquer pour chacun des `print` un commentaire expliquant ce qui est affiché.\n",
    "- [ ] Observer l'exemple ci-dessous et afficher le dernier élément de la première ligne de la matrice C.\n",
    "- [ ] Quel est le type de la variable `column` ?"
   ]
  },
  {
   "cell_type": "code",
   "execution_count": null,
   "metadata": {},
   "outputs": [],
   "source": [
    "C = [[1, 4, 5, 12], \n",
    "    [-5, 8, 9, 0],\n",
    "    [-6, 7, 11, 19]]\n",
    "\n",
    "print(\"C =\", C) # Affichage de la matrice \n",
    "print(\"C[1] =\", C[1])# Affichage de la 2ème ligne de la matrice \n",
    "print(\"C[1][2] =\", C[1][2]) # Affichage de la valeur de la matrice à la 2ème ligne et 3ème colonne \n",
    "print(\"Dernier élément de la 1ère ligne = \", C[0][3])\n",
    "print(\"Deux premiers éléments de la 2eme ligne = \", C[1][0], C[1][1])\n",
    "\n",
    "column = [];        \n",
    "for row in C:\n",
    "  column.append(row[2])   \n",
    "\n",
    "print(\"3eme colonne =\", column)\n",
    "print(\"Type de la variable column = \", type(column)) # <class 'list'>"
   ]
  },
  {
   "cell_type": "markdown",
   "metadata": {},
   "source": [
    "- [ ] Construire un tableau `letters` où chaque élément est un mot de la phrase. Les mots sont séparés par des espaces.\n",
    "- [ ] Commenter les lignes d'affichage pour expliquer l'opération de slicing qui est réalisée."
   ]
  },
  {
   "cell_type": "code",
   "execution_count": null,
   "metadata": {},
   "outputs": [],
   "source": [
    "sentence = 'le chateau dans le ciel est film japonais'\n",
    "letters = sentence.split(\" \")\n",
    "print(letters[2:5]) # 2 3 4\n",
    "print(letters[2:8:2]) # \n",
    "print(letters[:-5]) # 5 en arrière \n",
    "print(letters[5:]) # A partir de 5\n",
    "print(letters[:]) # Complet\n",
    "print(letters[::-1]) # Inverse "
   ]
  },
  {
   "cell_type": "markdown",
   "metadata": {},
   "source": [
    "A partir de la matrice X donnée ci-dessous:\n",
    "- [ ] Récupérer les 2 premières lignes et les 3 premières colonnes\n",
    "- [ ] Récupérer la première ligne, toutes les colonnes\n",
    "- [ ] Toutes les lignes, la 2ème colonne\n",
    "- [ ] Toutes les lignes, la 1ère et 3ème colonnes."
   ]
  },
  {
   "cell_type": "code",
   "execution_count": null,
   "metadata": {},
   "outputs": [],
   "source": [
    "X = np.array([[2, -5, -11, 0], \n",
    "    [-10, 4, 6, 13],\n",
    "    [4, 7, 12, -2]])\n",
    "\n",
    "# 2 premières lignes \n",
    "row1 = X[0,:]; \n",
    "row2 = X[1,:]; \n",
    "print(row1)\n",
    "print(row2)\n",
    "\n",
    "# 3 premières colonnes \n",
    "column1 = X[:,0]; \n",
    "column2 = X[:,1];  \n",
    "column3 = X[:,2];\n",
    "print(column1)\n",
    "print(column2)\n",
    "print(column3)\n",
    "\n",
    "#Première ligne \n",
    "print(row1)\n",
    "\n",
    "# Toutes les colonnes \n",
    "column4 =  X[:,3]\n",
    "print(column1)\n",
    "print(column2)\n",
    "print(column3)\n",
    "print(column4)\n",
    "\n",
    "# Toutes les lignes \n",
    "row3 = X[2,:]; \n",
    "print(row1)\n",
    "print(row2)\n",
    "print(row3)\n",
    "\n",
    "# 2ème colonne \n",
    "print(column2)\n",
    "\n",
    "\n",
    "\n"
   ]
  },
  {
   "cell_type": "markdown",
   "metadata": {},
   "source": [
    "3) A l'aide des arrays particuliers `np.eye()`, `np.zeros()` et `np.ones()`, construire:\n",
    "- [ ] un vecteur contenant 5 zéros\n",
    "- [ ] un vecteur contenant 4 1\n",
    "- [ ] une matrice ayant 2 lignes et 5 colonnes ne contenant que des zéros\n",
    "- [ ] une matrice carrée de dimension 3 ne contenant que des 1\n",
    "- [ ] une matrice identité de dimension 3.\n",
    "Vous vous aiderez de la documentation en ligne de numpy."
   ]
  },
  {
   "cell_type": "markdown",
   "metadata": {},
   "source": [
    "Il existe encore plein de matrices spéciales avec Numpy. En voici quelques unes qui nous serviront pendant les TPs. Observez bien comment les utiliser."
   ]
  },
  {
   "cell_type": "code",
   "execution_count": null,
   "metadata": {},
   "outputs": [],
   "source": [
    "x = np.arange(9)       #liste de n éléments de 0 à n-1\n",
    "y = np.linspace(0,1,5) #np.linspace(debut, fin, nb)\n",
    "\n",
    "A = np.zeros(5)# Vecteur contenant 5 zéros\n",
    "print(A) \n",
    "\n",
    "B = np.eye(4) # Vecteur contenant 4 1 \n",
    "print(B)\n",
    "\n",
    "C = np.zeros((2,5)) # Matrice ayant 2 lignes et 5 colonnes ne contenant que des zéros\n",
    "print(C)\n",
    "\n",
    "D = np.ones((3,3)) # Matrice carrée de dimension 3 ne contenant que des 1\n",
    "print(D)\n",
    "\n",
    "E = np.identity(3) # Matrice identité de dimension 3\n",
    "print(E)\n"
   ]
  },
  {
   "cell_type": "markdown",
   "metadata": {},
   "source": [
    "4) Nous allons maintenant étudier les attributs et méthodes de ces arrays. \n",
    "- [ ] Expliquer avec un commentaire sur chaque ligne, à quoi correspondent chacun des attributs ou méthodes suivantes. \n",
    "- [ ] En particulier bien observer le comportement de `w.sort()` sur la matrice w."
   ]
  },
  {
   "cell_type": "code",
   "execution_count": null,
   "metadata": {
    "scrolled": true
   },
   "outputs": [],
   "source": [
    "# arange permet \n",
    "x = np.arange(9) # Crée un tableau de 0 à 8 inclus\n",
    "# size => nb d'éléments dans le tableau \n",
    "# shape => tuple de la dimension du tableau \n",
    "# ndim => nombre de dimension \n",
    "print(x.size, x.shape, x.ndim)\n",
    "\n",
    "# reshape => redimensionne \n",
    "y = x.reshape((3,3))\n",
    "print(y.size, y.shape, y.ndim)\n",
    "\n",
    "print('type: ', y.dtype) # type des éléments du tableau \n",
    "print('min: ', y.min()) # minimum \n",
    "print('max: ', y.max()) # maximum \n",
    "print('argmax: ', y.argmax()) # indice de la valeur max \n",
    "print('sum: ', y.sum()) # somme des éléments \n",
    "print('sum0: ', y.sum(axis=0)) # somme des colonnes \n",
    "print('sum1: ', y.sum(axis=1)) # somme des lignes \n",
    "\n",
    "w = np.eye(3)\n",
    "w.sort() # trie chaque ligne \n"
   ]
  },
  {
   "cell_type": "markdown",
   "metadata": {},
   "source": [
    "5) Masking. On définit un masque m qui contient des booléens. L'utilisation du masking permet de ne récupérer que les éléments de b qui sont à `True` dans le masque. \n",
    "- [ ] Faites l'opération qui consiste à ne récupérer que les éléments qui sont à `True`"
   ]
  },
  {
   "cell_type": "code",
   "execution_count": null,
   "metadata": {
    "scrolled": true
   },
   "outputs": [],
   "source": [
    "b = np.array([[ 2, 4, 6, 8], [12, 14, 16, 18], [22, 24, 26, 28]])\n",
    "m = np.array([[True, False, True, False],[True, False, True, False],[True, False, True, False]])\n",
    "\n",
    "n = b[m]\n",
    "print (n)"
   ]
  },
  {
   "cell_type": "markdown",
   "metadata": {},
   "source": [
    "6) Opérations matricielles. Nous allons maintenant faire des opérations entre les différents arrays. On définira une matrice m de dimensions $N \\times M$ telle que ses éléments sont $m_{ij}$ avec $i \\in [0; M]$ l'indice de la ligne et $j \\in [0; M]$ l'indice de la colonne.\n",
    "\n",
    "Créer deux matrices A et B non carrées de dimension au moins 3 et calculer les matrices suivantes:\n",
    "- [ ] `A+B` la somme matricielle $A+B$ (équivalent à la somme terme à terme)\n",
    "- [ ] `A*B` le produit d'Hadamard (ou produit terme à terme **différent du produit matriciel**) $D = A \\cdot B$ tel que $d_{ij} = a_{ij} \\times b_{ij}$\n",
    "- [ ] `A.dot(B)` le produit matriciel $E = A \\times B$\n",
    "- [ ] `A.transpose()` ou `A.T` la transposition d'une matrice $F = ^tA$\n",
    "- [ ] `A < B` le masque correspondant aux indices tels que $a_{ij} < b_{ij}$\n",
    "- [ ] les valeurs terme à terme issues de l'opération $\\sin(A) \\cdot e^{- A^2 /2}$"
   ]
  },
  {
   "cell_type": "code",
   "execution_count": null,
   "metadata": {},
   "outputs": [],
   "source": [
    "import math \n",
    "# Matrice A \n",
    "A = np.array([[ 2, 4, 6, 8], [12, 14, 16, 18], [22, 24, 26, 4]])\n",
    "print(\"Matrice A : \\n\", A, \"\\n\")\n",
    "\n",
    "# Matrice B \n",
    "B = np.array([[ 1, 2, 3, 4], [5, 6, 7, 8], [9, 10, 11, 12]])\n",
    "print(\"Matrice B : \\n\", B, \"\\n\")\n",
    "\n",
    "# Somme matricielle \n",
    "sommeMat = A + B\n",
    "print(\"Somme matricielle A + B : \\n\", sommeMat, \"\\n\")\n",
    "\n",
    "# Produit d'Hadamard \n",
    "prodHadamard = A * B \n",
    "print(\"Produit d'Hadamard A * B : \\n\", prodHadamard, \"\\n\")\n",
    "\n",
    "# Matrice C\n",
    "C = np.array([[ 1, 2, 3], [4, 5, 6],[7, 8, 9],[ 10, 11, 12]])\n",
    "print(\"Matrice C : \\n\", C, \"\\n\")\n",
    "\n",
    "# Produit matriciel \n",
    "prodMat = A.dot(C)\n",
    "print(\"Produit matriciel A.dot(C) : \\n\", prodMat, \"\\n\")\n",
    "\n",
    "# Transposition \n",
    "trans = A.transpose()\n",
    "print(\"Transposition A.transpose() : \\n\", trans, \"\\n\"); \n",
    "\n",
    "# Masque\n",
    "masque = A < B \n",
    "print(\"Masque A < B : \\n\", masque, \"\\n\"); \n",
    "\n",
    "# Valeurs termes \n",
    "# PB ICI \n",
    "val = math.sin(A).exp(math.pow(-A,2)/2)"
   ]
  },
  {
   "cell_type": "markdown",
   "metadata": {},
   "source": [
    "7) Concaténation de matrices. Les matrices peuvent être accolées soit verticalement (`np.vstack()`) soit horizontalement (`np.hstack()`). Toujours bien vérifier la dimension sur laquelle on fait la concaténation pour ne pas tromper entre les lignes et les colonnes.\n",
    "- [ ] concaténer les matrices a et b en vérifiant que l'axe choisi est adapté.\n",
    "- [ ] utiliser la transposition de matrice `np.transpose()` pour faire la concaténation suivant un autre axe."
   ]
  },
  {
   "cell_type": "code",
   "execution_count": null,
   "metadata": {},
   "outputs": [],
   "source": [
    "a = np.ones((3,3)) # modifier ici car il faut que les matrices aient la même dimension pour la concaténation verticale \n",
    "print(a,\"\\n\")\n",
    "b = np.array([[ 2, 4, 6], [12, 14, 16], [22, 24, 26]])\n",
    "print(b,\"\\n\")\n",
    "\n",
    "# Accolées horizontalement \n",
    "print(np.concatenate((a,b), axis=1))\n",
    "print(\"\\n\")\n",
    "print(np.hstack((a,b)))\n",
    "\n",
    "# Accolées verticalement \n",
    "print(\"\\n\")\n",
    "print(np.concatenate((a,b), axis=0))\n",
    "print(\"\\n\")\n",
    "print(np.vstack((a,b)))\n",
    "\n",
    "# Transposition de matrice \n",
    "# ???? \n",
    "print(\"\\n\", np.concatenate((np.transpose(a),np.transpose(b)),axis=0))"
   ]
  },
  {
   "cell_type": "markdown",
   "metadata": {},
   "source": [
    "### Exercice 2: Calcul matriciel pour l'algèbre linéaire\n",
    "\n",
    "Maintenant que nous avons vu les bases des opérations sur les matrices en numpy, nous allons pouvoir effectuer des opérations vues en cours d'algèbre linéaire."
   ]
  },
  {
   "cell_type": "markdown",
   "metadata": {},
   "source": [
    "1) Inverse d'une matrice. On n'oubliera pas de vérifier si une matrice est inversible en calculant son déterminant: $\\text{A est inversible} \\Leftrightarrow \\det(A) \\neq 0$\n",
    "\n",
    "Le calcul du déterminant peut être fait à la main, et vérifié avec la fonction `linalg.det(A)`.\n",
    "- [ ] créer une fonction qui prend une matrice en argument et vérifie si elle est inversible.\n",
    "- [ ] déterminer les matrices inverses de a et b. \n",
    "- [ ] vérifier que l'opération donne un résultat correct. On rappelle que $A^{-1} \\times A = I$, $I$ étant la matrice identité et $A^{-1}$ la matrice inverse."
   ]
  },
  {
   "cell_type": "code",
   "execution_count": null,
   "metadata": {},
   "outputs": [],
   "source": [
    "import numpy\n",
    "import numpy.linalg as la\n",
    "\n",
    "a = np.array([[1, 2, 3],\n",
    "             [4, 5, 6],\n",
    "             [7, 8, 9]])\n",
    "\n",
    "print(estInversible(a))\n",
    "\n",
    "b = a = np.array([[4, 7],\n",
    "              [2, 8]])\n",
    "\n",
    "def estInversible(mat):\n",
    "    return la.det(mat) != 0\n",
    "\n",
    "print(estInversible(b))\n",
    "\n",
    "print(\"\\nMatribe b inverse : \")\n",
    "print(numpy.linalg.inv(b),\"\\n\")\n",
    "print(b.dot(numpy.linalg.inv(b)))\n",
    "\n"
   ]
  },
  {
   "cell_type": "markdown",
   "metadata": {},
   "source": [
    "### Exercice 3: subtilités en Python\n",
    "\n",
    "Etant donné que les variables ne sont ni typées, ni affectées de manière aussi forte qu'en C, on doit faire attention à quelques éléments quand on programme en Python.\n",
    "\n",
    "- [ ] Que remarquez-vous sur les valeurs de la matrice p, une fois le code ci-dessous exécuté? Expliquer.\n",
    "- [ ] Proposer une solution pour que la matrice p ne soit pas modifiée."
   ]
  },
  {
   "cell_type": "code",
   "execution_count": null,
   "metadata": {
    "scrolled": true
   },
   "outputs": [],
   "source": [
    "p = np.array([[ 2, 4, 6, 8], [12, 14, 16, 18], [22, 24, 26, 28]])\n",
    "# s = p # En Python modifier une donnée d’une extraction d’un tableau entraîne aussi une modification du tableau initial\n",
    "s = np.copy(p) # Solution pour que la matrice p ne soit pas modifiée \n",
    "print('s: ', s)\n",
    "\n",
    "s[0,0] = 0\n",
    "print('s: ', s)\n",
    "print('p: ', p) "
   ]
  },
  {
   "cell_type": "markdown",
   "metadata": {},
   "source": [
    "On peut définir en Python des fonctions qui prennent en entrée des tableaux numpy. Cependant il faut faire attention à ce que les entrées soient au bon format.\n",
    "- [ ] Utiliser la fonction `np.vectorize()` pour vectoriser la fonction `f`."
   ]
  },
  {
   "cell_type": "code",
   "execution_count": null,
   "metadata": {},
   "outputs": [],
   "source": [
    "def f(x):\n",
    "    k, s = 0.0,0\n",
    "    while k < x:\n",
    "        k +=1\n",
    "        s += k\n",
    "    return s\n",
    "\n",
    "print('f(3) = ', f(3))\n",
    "\n",
    "# Vectoriser la fonction f \n",
    "vfonc = np.vectorize(f)\n",
    "x = np.linspace(0,1,5)\n",
    "print('f(x) = ', vfonc(x))"
   ]
  },
  {
   "cell_type": "markdown",
   "metadata": {},
   "source": [
    "---\n",
    "## Partie 3: Faire des statistiques avec Numpy\n",
    "\n",
    "Numpy contient les fonctions statistiques de base. Ces fonctions s'appliqueront sur des tableaux de type `array`. \n",
    "\n",
    "### Exercice 1: fonctions statistiques classiques\n",
    "\n",
    "1) Pour la matrice a suivante, calculer:\n",
    "- [ ] la variance globale sur tous les éléments et vérifier que l'écart-type au carré est bien égal à cette variance: $var(X) = \\sigma(X)^2$\n",
    "- [ ] la moyenne sur les colonnes."
   ]
  },
  {
   "cell_type": "code",
   "execution_count": null,
   "metadata": {},
   "outputs": [],
   "source": [
    "import math \n",
    "a = np.array([[ 2, 4, 6, 8], [12, 14, 16, 18], [22, 24, 26, 28]])\n",
    "print('moyenne: ', a.mean()) #moyenne de tous les éléments\n",
    "print('écart-type: ', a.std(axis = 0)) #écart-type p/r aux colonnes\n",
    "print('médiane: ', np.median(a, axis = 1)) #median p/r aux lignes\n",
    "\n",
    "# Variance globale + vérification \n",
    "print('variance: ', a.var())\n",
    "print('écart-type au carré: ', a.std() * a.std())\n",
    "\n",
    "# Moyenne sur les colonnes \n",
    "print('Moyenne sur les colonnes: ', a.mean(axis = 0))\n"
   ]
  },
  {
   "cell_type": "markdown",
   "metadata": {},
   "source": [
    "### Exercice 2: Génération de nombres aléatoires suivant des lois de probabilités\n",
    "\n",
    "On pourra également utiliser la librairie `numpy.random` pour la génération de nombres aléatoires.\n",
    "- [ ] vérifier les dimensions de chacune des arrays générés.\n",
    "- [ ] générer 1000 valeurs suivant une loi normale centrée réduite\n",
    "- [ ] vérifier que la moyenne de ces 1000 valeurs est bien 0 et que l'écart-type est 1."
   ]
  },
  {
   "cell_type": "code",
   "execution_count": 4,
   "metadata": {},
   "outputs": [
    {
     "name": "stdout",
     "output_type": "stream",
     "text": [
      "[0.30725569 0.95139746 0.42018873]\n",
      "(3,)\n",
      "[[3 3 5 3 2]\n",
      " [4 1 3 3 1]]\n",
      "(2, 5)\n",
      "[-3.25103631 -3.57250264 -3.67532297 -3.13915935 -3.2103583  -3.10770709\n",
      " -3.05758211 -3.23560871 -3.72528404 -3.59458596]\n",
      "(10,)\n",
      "[3 5 3 9 2]\n",
      "(5,)\n",
      "(1000,)\n",
      "moyenne =  0.07810419925243675\n",
      "écart-type =  1.0144170267259978\n"
     ]
    }
   ],
   "source": [
    "import numpy.random as rdm\n",
    "\n",
    "print(rdm.rand(3)) #génère des nombres suivant une loi uniforme sur [0,1]\n",
    "print(rdm.rand(3).shape)\n",
    "\n",
    "print(rdm.binomial(10,0.3, (2,5)))#génère des nombres suivant une loi binomiale avec n=10 et p=0.3\n",
    "print(rdm.binomial(10,0.3, (2,5)).shape)\n",
    "\n",
    "print(rdm.normal(-3.5, 0.3, 10))#génère des nombres suivant une loi normale avec m=-3.5 et s=0.3\n",
    "print(rdm.normal(-3.5, 0.3, 10).shape)\n",
    "\n",
    "print(rdm.poisson(4.3, 5))#génère des nombres suivant une loi de poisson avec lambda=5\n",
    "print(rdm.poisson(4.3, 5).shape)\n",
    "\n",
    "a = rdm.standard_normal(1000) #génère 1000 valeurs suivant une loi normale centrée réduite \n",
    "print(a.shape)\n",
    "print(\"moyenne = \", a.mean())\n",
    "print(\"écart-type = \", a.std())\n",
    "\n"
   ]
  },
  {
   "cell_type": "code",
   "execution_count": null,
   "metadata": {},
   "outputs": [],
   "source": [
    "letters = np.array(['a', 'b', 'c', 'd'])\n",
    "rdm.shuffle(letters)\n",
    "print(letters)\n",
    "print(rdm.choice(letters,2)) #tirage aléatoire de 2 élements de letters"
   ]
  },
  {
   "cell_type": "markdown",
   "metadata": {},
   "source": [
    "### Exercice 3: Visualisation des distributions aléatoires\n",
    "\n",
    "En utilisant la librairie `matplotlib` vous pourrez tracer des graphiques. Cela vous sera utile pour représenter par exemple des distributions de nombres générés aléatoirement.\n",
    "\n",
    "- [ ] modifier les paramètres de loi (après avoir consulté la documentation correspondante) et observer les effets sur les distributions."
   ]
  },
  {
   "cell_type": "code",
   "execution_count": 8,
   "metadata": {},
   "outputs": [
    {
     "data": {
      "image/png": "[encoded data removed]",
      "text/plain": [
       "<Figure size 432x288 with 1 Axes>"
      ]
     },
     "metadata": {
      "needs_background": "light"
     },
     "output_type": "display_data"
    }
   ],
   "source": [
    "import matplotlib.pyplot as plt\n",
    "plt.hist(rdm.uniform(0,1,100))\n",
    "plt.show()\n"
   ]
  },
  {
   "cell_type": "code",
   "execution_count": 7,
   "metadata": {},
   "outputs": [
    {
     "data": {
      "image/png": "[encoded data removed]",
      "text/plain": [
       "<Figure size 432x288 with 1 Axes>"
      ]
     },
     "metadata": {
      "needs_background": "light"
     },
     "output_type": "display_data"
    }
   ],
   "source": [
    "plt.hist(rdm.normal(4,2,100))\n",
    "plt.show()"
   ]
  },
  {
   "cell_type": "markdown",
   "metadata": {},
   "source": [
    "- [ ] par rapport à ce que vous connaissez des variables aléatoires. Quelle grandeur est observée sur le graphique ci-dessous ?"
   ]
  },
  {
   "cell_type": "code",
   "execution_count": 14,
   "metadata": {},
   "outputs": [
    {
     "ename": "AttributeError",
     "evalue": "'Rectangle' object has no property 'normed'",
     "output_type": "error",
     "traceback": [
      "\u001b[0;31m---------------------------------------------------------------------------\u001b[0m",
      "\u001b[0;31mAttributeError\u001b[0m                            Traceback (most recent call last)",
      "\u001b[0;32m<ipython-input-14-1d0666dbd4a0>\u001b[0m in \u001b[0;36m<module>\u001b[0;34m\u001b[0m\n\u001b[1;32m      1\u001b[0m \u001b[0;32mimport\u001b[0m \u001b[0mnumpy\u001b[0m \u001b[0;32mas\u001b[0m \u001b[0mnp\u001b[0m\u001b[0;34m\u001b[0m\u001b[0;34m\u001b[0m\u001b[0m\n\u001b[1;32m      2\u001b[0m \u001b[0mL\u001b[0m \u001b[0;34m=\u001b[0m \u001b[0mnp\u001b[0m\u001b[0;34m.\u001b[0m\u001b[0msum\u001b[0m\u001b[0;34m(\u001b[0m\u001b[0mrdm\u001b[0m\u001b[0;34m.\u001b[0m\u001b[0mrand\u001b[0m\u001b[0;34m(\u001b[0m\u001b[0;36m40\u001b[0m\u001b[0;34m,\u001b[0m \u001b[0;36m100000\u001b[0m\u001b[0;34m)\u001b[0m\u001b[0;34m,\u001b[0m\u001b[0;36m0\u001b[0m\u001b[0;34m)\u001b[0m\u001b[0;34m\u001b[0m\u001b[0;34m\u001b[0m\u001b[0m\n\u001b[0;32m----> 3\u001b[0;31m \u001b[0mplt\u001b[0m\u001b[0;34m.\u001b[0m\u001b[0mhist\u001b[0m\u001b[0;34m(\u001b[0m\u001b[0mL\u001b[0m\u001b[0;34m,\u001b[0m \u001b[0;36m25\u001b[0m\u001b[0;34m,\u001b[0m \u001b[0mnormed\u001b[0m\u001b[0;34m=\u001b[0m\u001b[0;34m'True'\u001b[0m\u001b[0;34m)\u001b[0m\u001b[0;34m\u001b[0m\u001b[0;34m\u001b[0m\u001b[0m\n\u001b[0m\u001b[1;32m      4\u001b[0m \u001b[0mplt\u001b[0m\u001b[0;34m.\u001b[0m\u001b[0mshow\u001b[0m\u001b[0;34m(\u001b[0m\u001b[0;34m)\u001b[0m\u001b[0;34m\u001b[0m\u001b[0;34m\u001b[0m\u001b[0m\n",
      "\u001b[0;32m/home/mathilde/snap/jupyter/common/lib/python3.7/site-packages/matplotlib/pyplot.py\u001b[0m in \u001b[0;36mhist\u001b[0;34m(x, bins, range, density, weights, cumulative, bottom, histtype, align, orientation, rwidth, log, color, label, stacked, data, **kwargs)\u001b[0m\n\u001b[1;32m   2856\u001b[0m         \u001b[0malign\u001b[0m\u001b[0;34m=\u001b[0m\u001b[0malign\u001b[0m\u001b[0;34m,\u001b[0m \u001b[0morientation\u001b[0m\u001b[0;34m=\u001b[0m\u001b[0morientation\u001b[0m\u001b[0;34m,\u001b[0m \u001b[0mrwidth\u001b[0m\u001b[0;34m=\u001b[0m\u001b[0mrwidth\u001b[0m\u001b[0;34m,\u001b[0m \u001b[0mlog\u001b[0m\u001b[0;34m=\u001b[0m\u001b[0mlog\u001b[0m\u001b[0;34m,\u001b[0m\u001b[0;34m\u001b[0m\u001b[0;34m\u001b[0m\u001b[0m\n\u001b[1;32m   2857\u001b[0m         \u001b[0mcolor\u001b[0m\u001b[0;34m=\u001b[0m\u001b[0mcolor\u001b[0m\u001b[0;34m,\u001b[0m \u001b[0mlabel\u001b[0m\u001b[0;34m=\u001b[0m\u001b[0mlabel\u001b[0m\u001b[0;34m,\u001b[0m \u001b[0mstacked\u001b[0m\u001b[0;34m=\u001b[0m\u001b[0mstacked\u001b[0m\u001b[0;34m,\u001b[0m\u001b[0;34m\u001b[0m\u001b[0;34m\u001b[0m\u001b[0m\n\u001b[0;32m-> 2858\u001b[0;31m         **({\"data\": data} if data is not None else {}), **kwargs)\n\u001b[0m\u001b[1;32m   2859\u001b[0m \u001b[0;34m\u001b[0m\u001b[0m\n\u001b[1;32m   2860\u001b[0m \u001b[0;34m\u001b[0m\u001b[0m\n",
      "\u001b[0;32m/home/mathilde/snap/jupyter/common/lib/python3.7/site-packages/matplotlib/__init__.py\u001b[0m in \u001b[0;36minner\u001b[0;34m(ax, data, *args, **kwargs)\u001b[0m\n\u001b[1;32m   1359\u001b[0m     \u001b[0;32mdef\u001b[0m \u001b[0minner\u001b[0m\u001b[0;34m(\u001b[0m\u001b[0max\u001b[0m\u001b[0;34m,\u001b[0m \u001b[0;34m*\u001b[0m\u001b[0margs\u001b[0m\u001b[0;34m,\u001b[0m \u001b[0mdata\u001b[0m\u001b[0;34m=\u001b[0m\u001b[0;32mNone\u001b[0m\u001b[0;34m,\u001b[0m \u001b[0;34m**\u001b[0m\u001b[0mkwargs\u001b[0m\u001b[0;34m)\u001b[0m\u001b[0;34m:\u001b[0m\u001b[0;34m\u001b[0m\u001b[0;34m\u001b[0m\u001b[0m\n\u001b[1;32m   1360\u001b[0m         \u001b[0;32mif\u001b[0m \u001b[0mdata\u001b[0m \u001b[0;32mis\u001b[0m \u001b[0;32mNone\u001b[0m\u001b[0;34m:\u001b[0m\u001b[0;34m\u001b[0m\u001b[0;34m\u001b[0m\u001b[0m\n\u001b[0;32m-> 1361\u001b[0;31m             \u001b[0;32mreturn\u001b[0m \u001b[0mfunc\u001b[0m\u001b[0;34m(\u001b[0m\u001b[0max\u001b[0m\u001b[0;34m,\u001b[0m \u001b[0;34m*\u001b[0m\u001b[0mmap\u001b[0m\u001b[0;34m(\u001b[0m\u001b[0msanitize_sequence\u001b[0m\u001b[0;34m,\u001b[0m \u001b[0margs\u001b[0m\u001b[0;34m)\u001b[0m\u001b[0;34m,\u001b[0m \u001b[0;34m**\u001b[0m\u001b[0mkwargs\u001b[0m\u001b[0;34m)\u001b[0m\u001b[0;34m\u001b[0m\u001b[0;34m\u001b[0m\u001b[0m\n\u001b[0m\u001b[1;32m   1362\u001b[0m \u001b[0;34m\u001b[0m\u001b[0m\n\u001b[1;32m   1363\u001b[0m         \u001b[0mbound\u001b[0m \u001b[0;34m=\u001b[0m \u001b[0mnew_sig\u001b[0m\u001b[0;34m.\u001b[0m\u001b[0mbind\u001b[0m\u001b[0;34m(\u001b[0m\u001b[0max\u001b[0m\u001b[0;34m,\u001b[0m \u001b[0;34m*\u001b[0m\u001b[0margs\u001b[0m\u001b[0;34m,\u001b[0m \u001b[0;34m**\u001b[0m\u001b[0mkwargs\u001b[0m\u001b[0;34m)\u001b[0m\u001b[0;34m\u001b[0m\u001b[0;34m\u001b[0m\u001b[0m\n",
      "\u001b[0;32m/home/mathilde/snap/jupyter/common/lib/python3.7/site-packages/matplotlib/axes/_axes.py\u001b[0m in \u001b[0;36mhist\u001b[0;34m(self, x, bins, range, density, weights, cumulative, bottom, histtype, align, orientation, rwidth, log, color, label, stacked, **kwargs)\u001b[0m\n\u001b[1;32m   6909\u001b[0m             \u001b[0;32mif\u001b[0m \u001b[0mpatch\u001b[0m\u001b[0;34m:\u001b[0m\u001b[0;34m\u001b[0m\u001b[0;34m\u001b[0m\u001b[0m\n\u001b[1;32m   6910\u001b[0m                 \u001b[0mp\u001b[0m \u001b[0;34m=\u001b[0m \u001b[0mpatch\u001b[0m\u001b[0;34m[\u001b[0m\u001b[0;36m0\u001b[0m\u001b[0;34m]\u001b[0m\u001b[0;34m\u001b[0m\u001b[0;34m\u001b[0m\u001b[0m\n\u001b[0;32m-> 6911\u001b[0;31m                 \u001b[0mp\u001b[0m\u001b[0;34m.\u001b[0m\u001b[0mupdate\u001b[0m\u001b[0;34m(\u001b[0m\u001b[0mkwargs\u001b[0m\u001b[0;34m)\u001b[0m\u001b[0;34m\u001b[0m\u001b[0;34m\u001b[0m\u001b[0m\n\u001b[0m\u001b[1;32m   6912\u001b[0m                 \u001b[0;32mif\u001b[0m \u001b[0mlbl\u001b[0m \u001b[0;32mis\u001b[0m \u001b[0;32mnot\u001b[0m \u001b[0;32mNone\u001b[0m\u001b[0;34m:\u001b[0m\u001b[0;34m\u001b[0m\u001b[0;34m\u001b[0m\u001b[0m\n\u001b[1;32m   6913\u001b[0m                     \u001b[0mp\u001b[0m\u001b[0;34m.\u001b[0m\u001b[0mset_label\u001b[0m\u001b[0;34m(\u001b[0m\u001b[0mlbl\u001b[0m\u001b[0;34m)\u001b[0m\u001b[0;34m\u001b[0m\u001b[0;34m\u001b[0m\u001b[0m\n",
      "\u001b[0;32m/home/mathilde/snap/jupyter/common/lib/python3.7/site-packages/matplotlib/artist.py\u001b[0m in \u001b[0;36mupdate\u001b[0;34m(self, props)\u001b[0m\n\u001b[1;32m   1060\u001b[0m                     \u001b[0mfunc\u001b[0m \u001b[0;34m=\u001b[0m \u001b[0mgetattr\u001b[0m\u001b[0;34m(\u001b[0m\u001b[0mself\u001b[0m\u001b[0;34m,\u001b[0m \u001b[0;34mf\"set_{k}\"\u001b[0m\u001b[0;34m,\u001b[0m \u001b[0;32mNone\u001b[0m\u001b[0;34m)\u001b[0m\u001b[0;34m\u001b[0m\u001b[0;34m\u001b[0m\u001b[0m\n\u001b[1;32m   1061\u001b[0m                     \u001b[0;32mif\u001b[0m \u001b[0;32mnot\u001b[0m \u001b[0mcallable\u001b[0m\u001b[0;34m(\u001b[0m\u001b[0mfunc\u001b[0m\u001b[0;34m)\u001b[0m\u001b[0;34m:\u001b[0m\u001b[0;34m\u001b[0m\u001b[0;34m\u001b[0m\u001b[0m\n\u001b[0;32m-> 1062\u001b[0;31m                         raise AttributeError(f\"{type(self).__name__!r} object \"\n\u001b[0m\u001b[1;32m   1063\u001b[0m                                              f\"has no property {k!r}\")\n\u001b[1;32m   1064\u001b[0m                     \u001b[0mret\u001b[0m\u001b[0;34m.\u001b[0m\u001b[0mappend\u001b[0m\u001b[0;34m(\u001b[0m\u001b[0mfunc\u001b[0m\u001b[0;34m(\u001b[0m\u001b[0mv\u001b[0m\u001b[0;34m)\u001b[0m\u001b[0;34m)\u001b[0m\u001b[0;34m\u001b[0m\u001b[0;34m\u001b[0m\u001b[0m\n",
      "\u001b[0;31mAttributeError\u001b[0m: 'Rectangle' object has no property 'normed'"
     ]
    },
    {
     "data": {
      "image/png": "[encoded data removed]",
      "text/plain": [
       "<Figure size 432x288 with 1 Axes>"
      ]
     },
     "metadata": {
      "needs_background": "light"
     },
     "output_type": "display_data"
    }
   ],
   "source": [
    "import numpy as np\n",
    "L = np.sum(rdm.rand(40, 100000),0)\n",
    "plt.hist(L, 25, normed='True')\n",
    "plt.show()"
   ]
  },
  {
   "cell_type": "code",
   "execution_count": null,
   "metadata": {},
   "outputs": [],
   "source": []
  }
 ],
 "metadata": {
  "kernelspec": {
   "display_name": "Python 3",
   "language": "python",
   "name": "python3"
  }
 },
 "nbformat": 4,
 "nbformat_minor": 2
}
