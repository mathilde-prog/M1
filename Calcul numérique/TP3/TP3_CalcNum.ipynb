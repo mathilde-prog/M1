{
 "cells": [
  {
   "cell_type": "markdown",
   "metadata": {},
   "source": [
    "# Calcul Numérique TP3\n",
    "\n"
   ]
  },
  {
   "cell_type": "markdown",
   "metadata": {},
   "source": [
    "## Exercice 1: Influence de la fréquence d’échantillonnage sur la visualisation d’un signal\n",
    "\n",
    "Avec des outils numériques, le temps n’est pas continu mais discret. Pour discrétiser un signal continu, il suffit de prendre un échantillon de ce signal continu toutes les Te secondes. Te est appelé période d’échantillonnage, la fréquence d’échantillonnage est définie par $Fe = 1/Te$.\n",
    "Un signal sinusoidal est un signal continu défini par l’équation:\n",
    "$$x(t) = a \\sin(2 \\pi f_0 t + \\phi)$$\n",
    "\n",
    "où $a$ est l’amplitude, $f_0$ la fréquence de la sinusoide et $\\phi$ la phase. Nous allons générer ce signal à l’aide du paquet `numpy` de Python avec une fréquence d’échantillonnage de `Fe = 100 Hz`\n",
    "\n",
    "1) Créer un vecteur de temps t allant de 0 à 1 sec. \n",
    "- [ ] quelle sera la durée entre 2 instants successifs ? \n",
    "- [ ] combien de valeurs contient le vecteur de temps ?"
   ]
  },
  {
   "cell_type": "code",
   "execution_count": 4,
   "metadata": {},
   "outputs": [],
   "source": [
    "import numpy as np\n",
    "import matplotlib.pyplot as plt\n",
    "\n",
    "Fe = 100\n",
    "t = np.linspace(0,1,Fe)"
   ]
  },
  {
   "cell_type": "markdown",
   "metadata": {},
   "source": [
    "2) Déterminer l’index de t correspondant à la valeur de 50 ms ? \n",
    "On pourra utiliser la méthode `np.where`"
   ]
  },
  {
   "cell_type": "code",
   "execution_count": 62,
   "metadata": {},
   "outputs": [
    {
     "name": "stdout",
     "output_type": "stream",
     "text": [
      "[0.         0.01010101 0.02020202 0.03030303 0.04040404 0.05050505\n",
      " 0.06060606 0.07070707 0.08080808 0.09090909 0.1010101  0.11111111\n",
      " 0.12121212 0.13131313 0.14141414 0.15151515 0.16161616 0.17171717\n",
      " 0.18181818 0.19191919 0.2020202  0.21212121 0.22222222 0.23232323\n",
      " 0.24242424 0.25252525 0.26262626 0.27272727 0.28282828 0.29292929\n",
      " 0.3030303  0.31313131 0.32323232 0.33333333 0.34343434 0.35353535\n",
      " 0.36363636 0.37373737 0.38383838 0.39393939 0.4040404  0.41414141\n",
      " 0.42424242 0.43434343 0.44444444 0.45454545 0.46464646 0.47474747\n",
      " 0.48484848 0.49494949 0.50505051 0.51515152 0.52525253 0.53535354\n",
      " 0.54545455 0.55555556 0.56565657 0.57575758 0.58585859 0.5959596\n",
      " 0.60606061 0.61616162 0.62626263 0.63636364 0.64646465 0.65656566\n",
      " 0.66666667 0.67676768 0.68686869 0.6969697  0.70707071 0.71717172\n",
      " 0.72727273 0.73737374 0.74747475 0.75757576 0.76767677 0.77777778\n",
      " 0.78787879 0.7979798  0.80808081 0.81818182 0.82828283 0.83838384\n",
      " 0.84848485 0.85858586 0.86868687 0.87878788 0.88888889 0.8989899\n",
      " 0.90909091 0.91919192 0.92929293 0.93939394 0.94949495 0.95959596\n",
      " 0.96969697 0.97979798 0.98989899 1.        ]\n",
      "5\n"
     ]
    }
   ],
   "source": [
    "t = np.linspace(0,1,100)\n",
    "print (np.where(t >= 0.05)[0][0])\n",
    "# Ou utiliser is closest "
   ]
  },
  {
   "cell_type": "markdown",
   "metadata": {},
   "source": [
    "3) Générer un signal sinusoidal de paramètres $a = 1.5$, $\\phi = 0$ et $f_0 = 10$ Hz.\n",
    "\n",
    "- [ ] tracer le signal sinusoidal entre 0 et 1 s. \n",
    "- [ ] mesurer la période réelle et la comparer avec la période du signal ($T_0$)        \n",
    "- [ ] tracer le signal entre 50 ms et 150 ms. Vous devez observer des lignes brisées. Pourquoi ?"
   ]
  },
  {
   "cell_type": "code",
   "execution_count": 89,
   "metadata": {},
   "outputs": [
    {
     "data": {
      "image/png": "[encoded data removed]",
      "text/plain": [
       "<Figure size 432x288 with 1 Axes>"
      ]
     },
     "metadata": {
      "needs_background": "light"
     },
     "output_type": "display_data"
    }
   ],
   "source": [
    "import math \n",
    "\n",
    "def signal(t):\n",
    "    x = 1.5 * np.sin(2 * math.pi * 10 * t)\n",
    "    return x\n",
    "\n",
    "def plotSignal(t, x):\n",
    "    plt.plot(t,x)\n",
    "    plt.xlabel(\"Temps (en secondes)\")\n",
    "    plt.ylabel(\"Amplitude\")\n",
    "    plt.title(\"Signal sinusoidal\")\n",
    "    plt.show()\n",
    "\n",
    "Fe = 100 # nombre de points en une seconde \n",
    "# t = np.linspace(0,1,Fe) # Pour tracer le signal sinusoidal entre 0 et 1 s\n",
    "t = np.linspace(0.05,0.150, (int)(Fe * 0.1)) # Fe * 0.1 car 100 ms \n",
    "# Lignes brisées : car moins de points vu que 100 ms\n",
    "plotSignal(t, signal(t))"
   ]
  },
  {
   "cell_type": "markdown",
   "metadata": {},
   "source": [
    "4) Etant donné que le signal $x(t)$ est en réalité une suite numérique discrète $(x_n)_{n\\in N}$, on peut aussi utiliser la fonction `plt.stem(t,x)` à la place de `plt.plot(t, x)`. Essayer cette nouvelle fonction. \n",
    "- [ ] Qu’en pensez-vous? "
   ]
  },
  {
   "cell_type": "code",
   "execution_count": 72,
   "metadata": {},
   "outputs": [
    {
     "data": {
      "image/png": "[encoded data removed]",
      "text/plain": [
       "<Figure size 432x288 with 1 Axes>"
      ]
     },
     "metadata": {
      "needs_background": "light"
     },
     "output_type": "display_data"
    }
   ],
   "source": [
    "import math \n",
    "\n",
    "def signal(t):\n",
    "    x = 1.5 * np.sin(2 * math.pi * 10 * t)\n",
    "    return x\n",
    "\n",
    "def plotSignal(t, x):\n",
    "    plt.stem(t,x)\n",
    "    plt.xlabel(\"Temps (en secondes)\")\n",
    "    plt.ylabel(\"Amplitude\")\n",
    "    plt.title(\"Signal sinusoidal\")\n",
    "    plt.show()\n",
    "\n",
    "Fe = 100 # nombre de points en une seconde \n",
    "t = np.linspace(0.05,0.150, (int)(Fe * 0.1)) # Fe * 0.1 car 100 ms \n",
    "plotSignal(t, signal(t))"
   ]
  },
  {
   "cell_type": "markdown",
   "metadata": {},
   "source": [
    "5) Augmenter la fréquence d’échantillonnage et afficher le signal entre 50 ms et 150 ms. \n",
    "- [ ] qu’observez- vous ? Plus on augmente la fréquence d'échantillonnage, plus il y a de points, plus cela ressemble à une courbe. \n",
    "\n",
    "Intuitivement, nous pouvons penser qu’une bonne restitution du signal nécessite une fréquence d’échantillonnage élevée en mesurant la période directement sur la signal obtenu."
   ]
  },
  {
   "cell_type": "markdown",
   "metadata": {},
   "source": [
    "6) Fixer la fréquence d’échantillonnage `Fe = 1000 Hz`. Et compléter le tableau suivant ($T0 = 1/f0$):\n",
    "\n",
    "|n° | Fe | f0 | Période T0 réelle | Période mesurée |\n",
    "|:--:|:--:|:--:|:--:|:--:|\n",
    "|1 | 1000 |  10 | 0.1 | 0.10 |\n",
    "|1 | 1000 | 300 | 0.0033333333333333335 | 0.83 |\n",
    "|1 | 1000 | 500 | 0.002 | Pas possible |\n",
    "|1 | 1000 | 990 | 0.00101010101010101 | Pas possible |\n",
    "\n",
    "- [ ] Que remarquez-vous ?\n",
    "- [ ] lorsque Fe = 2f0, l’échantillonnage n’est plus capable de capturer la fréquence de la sinusoïde. (https://www.youtube.com/watch?v=jQDjJRYmeWg)\n",
    "- [ ] Lorsque Fe < 2f0, on parle de **repliement du spectre (aliasing)**. (https://www.youtube.com/watch?v=jHS9JGkEOmA)"
   ]
  },
  {
   "cell_type": "code",
   "execution_count": 94,
   "metadata": {},
   "outputs": [
    {
     "data": {
      "image/png": "[encoded data removed]",
      "text/plain": [
       "<Figure size 432x288 with 1 Axes>"
      ]
     },
     "metadata": {
      "needs_background": "light"
     },
     "output_type": "display_data"
    },
    {
     "name": "stdout",
     "output_type": "stream",
     "text": [
      "TO =  0.001\n"
     ]
    }
   ],
   "source": [
    "f0 = 1000\n",
    "\n",
    "def signal(t):\n",
    "    x = 1.5 * np.sin(2 * np.pi * f0 * t)\n",
    "    return x\n",
    "\n",
    "def plotSignal(t, x):\n",
    "    plt.plot(t,x)\n",
    "    plt.xlabel(\"Temps (en secondes)\")\n",
    "    plt.ylabel(\"Amplitude\")\n",
    "    plt.title(\"Signal sinusoidal\")\n",
    "    plt.show()\n",
    "\n",
    "Fe = 1000 # nombre de points en une seconde \n",
    "t = np.linspace(0.05,0.150, (int)(Fe * 0.1)) # Fe * 0.1 car 100 ms \n",
    "plotSignal(t, signal(t))\n",
    "print (\"TO = \", 1/f0)"
   ]
  },
  {
   "cell_type": "markdown",
   "metadata": {},
   "source": [
    "7) Afin de lire et d’écrire des fichiers WAV, on peut utiliser les fonctions wavfile du module python scipy: \n",
    "\n",
    "- [ ] écrire 3 fichiers WAV correspondants aux paramètres des signaux No2, 3 et 4. Les écouter (sans casque).\n",
    "\n",
    "*Remarque importante:*\n",
    "\n",
    "Les résultats de ces observations sont fondamentaux pour le traitement du signal. Le théorème de Shannon formalise la condition permettant d’échantillonner correctement un signal.\n",
    "$$F_e > 2f_{max}$$"
   ]
  },
  {
   "cell_type": "code",
   "execution_count": 31,
   "metadata": {},
   "outputs": [],
   "source": [
    "from scipy.io import wavfile\n",
    "import numpy as np\n",
    "\n",
    "Fe = 1000\n",
    "\n",
    "def signal(t, f0):\n",
    "    x = 1.5 * np.sin(2 * np.pi * f0 * t)\n",
    "    return x\n",
    "\n",
    "t = np.linspace(0,1,Fe)\n",
    "wavfile.write(\"signal2.wav\", Fe, signal(t,300)) \n",
    "wavfile.write(\"signal3.wav\", Fe, signal(t,500)) \n",
    "wavfile.write(\"signal4.wav\", Fe, signal(t,990)) "
   ]
  },
  {
   "cell_type": "markdown",
   "metadata": {},
   "source": [
    "## Exercice 2: Décomposition en séries de Fourier\n",
    "\n",
    "La mathématicien Fourier a démontré qu’il était possible de décomposer un signal périodique de fréquence fondamentale $f_0$ en une somme de plusieurs sinusoïdes de fréquences multiples $k f_0$ avec $k \\in N$ Mathématiquement, n’importe quel signal périodique $s(t)$ peut donc s’exprimer sous la forme:\n",
    "\n",
    "$$s(t) = a_0 + \\sum_{k=1}^{\\infty} a_k \\cos (2 \\pi k f_0 t) + \\sum_{k=1}^{\\infty} b_k \\sin (2 \\pi k f_0 t)$$\n",
    "\n",
    "Le tableau suivant présente les premières valeurs des coefficients ak et bk pour plusieurs signaux périodiques (ces valeurs s’obtiennent à l’aide des sommes infinies, cf cours).\n",
    "\n",
    "|Signal | ak | b1 | b2 | b3 | b4 | b5 | b6 | b7 | b8 | b9 |\n",
    "|: ----:|:--:|:--:|:--:|:--:|:--:|:--:|:--:|:--:|:--:|:--:|\n",
    "| carré | 0  | 1  | 0  | 1/3| 0  | 1/5| 0  | 1/7| 0  | 1/9|\n",
    "| triangle | 0  | 1  | 0  | -1/9| 0  | 1/25| 0  | -1/49| 0  | 1/81|\n",
    "| dent de scie | 0  | 1  | -1/2  | 1/3| -1/4 | 1/5| -1/6  | 1/7| -1/8| 1/9|"
   ]
  },
  {
   "cell_type": "markdown",
   "metadata": {},
   "source": [
    "1) synthétiser un signal carré, triangulaire et en dent de scie avec les fréquences fondamentales suivantes: f0 = 10 Hz et f0 = 1000 Hz. Les signaux seront échantillonnés à la fréquence Fe = 8 kHz sur une durée de 1 sec.\n",
    "\n",
    "Astuce: on pourra créer une matrice numpy contenant 10 colonnes. Chaque colonne correspondant à un signal sinusoidal particulier (comme vu dans l’Ex. 1). s(t) sera obtenu en faisant la somme des colonnes.\n"
   ]
  },
  {
   "cell_type": "code",
   "execution_count": 33,
   "metadata": {},
   "outputs": [
    {
     "ename": "SyntaxError",
     "evalue": "invalid syntax (<ipython-input-33-016e26ac3c64>, line 2)",
     "output_type": "error",
     "traceback": [
      "\u001b[0;36m  File \u001b[0;32m\"<ipython-input-33-016e26ac3c64>\"\u001b[0;36m, line \u001b[0;32m2\u001b[0m\n\u001b[0;31m    x = ak +\u001b[0m\n\u001b[0m             ^\u001b[0m\n\u001b[0;31mSyntaxError\u001b[0m\u001b[0;31m:\u001b[0m invalid syntax\n"
     ]
    }
   ],
   "source": [
    "\n",
    "def signal(t, ):\n",
    "    x = ak + "
   ]
  },
  {
   "cell_type": "markdown",
   "metadata": {},
   "source": [
    "2) Tracer ces 6 signaux en fonction du temps."
   ]
  },
  {
   "cell_type": "markdown",
   "metadata": {},
   "source": [
    "3) Créer des fichiers WAV correspondant aux 6 situations précédentes. Les écouter. Qu’en pensez-vous ?"
   ]
  },
  {
   "cell_type": "markdown",
   "metadata": {},
   "source": [
    "## Exercice 3: Transformée de Fourier\n",
    "\n",
    "La transformée de Fourier est très utilisée pour l’analyse des signaux (contenu fréquentiel, spectrogramme, périodigramme, etc.). Cette transformée permet de mettre en valeur des éléments de notre signal difficilement visualisables dans le domaine temporel.\n",
    "Mathématiquement, la transformée de Fourier d’un signal x(t) s’exprime sous la forme\n",
    "\n",
    "$$x(t) = \\int_{-\\infty}^{+\\infty} x(t) e^{- 2j \\pi ft} dt$$\n",
    "où X(f) correspond à la transformée de Fourier du signal x(t).\n",
    "\n",
    "La plupart des langages de programmation intègrent des fonctionnalités pour le calcul de la transformée de Fourier via des algorithmes rapides. Ces algorithmes sont couramment nommés FFT (Fast Fourier Transform). Dans cette exercice, nous allons illustrer l’intérêt de cette transformée."
   ]
  },
  {
   "cell_type": "markdown",
   "metadata": {},
   "source": [
    "1) Créer un signal d’1 sec. carré de fréquence fondamentale f0 = 120 Hz et de fréquence d’échantillonnage 8 kHz. Le tracer en fonction du temps."
   ]
  },
  {
   "cell_type": "markdown",
   "metadata": {},
   "source": [
    "2) La famille de fonctions `fft` de numpy permet de réaliser des opérations suivant les normes de calcul de la FFT (Fast FourrierTransform). Parmi ces fonctions, la fft calcule la transformée de Fourier rapide d’un signal (à 1 dimension).\n",
    "\n",
    "- [ ] calculer la fft du signal carré\n",
    "- [ ] du signal triangulaire\n",
    "- [ ] observer quelques valeurs de la FFT, que remarquez-vous ?"
   ]
  },
  {
   "cell_type": "code",
   "execution_count": null,
   "metadata": {},
   "outputs": [],
   "source": [
    "from numpy.fft import fft\n",
    "X = fft(x)# ou éventuellement X = fft(x, 512)"
   ]
  },
  {
   "cell_type": "markdown",
   "metadata": {},
   "source": [
    "3) La FFT d’un signal contenant N échantillons contient elle-aussi N échantillons. Alors que les échantillons temporels de x(t) sont espacés de Te, les échantillons fréquentiels de X(f) sont espacés de Fe. \n",
    "\n",
    "- [ ] quelle est la fréquence maximum ? \n",
    "- [ ] déterminer alors un vecteur correspondant aux fréquences."
   ]
  },
  {
   "cell_type": "markdown",
   "metadata": {},
   "source": [
    "4) Le module de la FFT est obtenu avec `np.abs(X)`, la puissance `np.abs(X)**2` et sa phase `np.angle(X)`.\n",
    "\n",
    "- [ ] Tracer le module et la phase de X en fonction des fréquences.\n",
    "\n",
    "Vous observez une série de raies. \n",
    "- [ ] à quelle fréquence est la première raie ? \n",
    "- [ ] dans le cas où le signal est constitué d’une seule sinusoïde (et pas une somme comme dans la décomposition de Fourrier), qu’observerait-on ? \n",
    "- [ ] que se passe-t-il si vous modifiez la valeur de la fréquence fondamentale (par exemple à 50 Hz et à 3000 Hz )?"
   ]
  },
  {
   "cell_type": "markdown",
   "metadata": {},
   "source": [
    "## Pour s'amuser\n",
    "\n",
    "Voici les coefficients de Fourier (module et phase) de deux fonctions que vous allez pouvoir tracer. La première correpond à la partie supérieure et la seconde à la partie inférieur.\n",
    "\n",
    "Vous avez les coefficients de Fourier, ainsi que le détail du code permettant d'obtenir le vecteur temps et l'affichage. Il vous reste à code la fonction `synthesis(t, An, phi_n)`. Le graphe obtenu devrait vous rappeler un superhéros."
   ]
  },
  {
   "cell_type": "code",
   "execution_count": null,
   "metadata": {},
   "outputs": [],
   "source": [
    "an_sup = np.array([1.74722779e+00, 1.34459832e-03, 3.75986360e-01, 6.73651433e-01,\n",
    "                   3.88495643e-01, 2.48505670e-01, 1.43402599e-01, 3.19814886e-02,\n",
    "                   3.61533388e-02, 1.76966727e-02, 1.47718873e-01, 1.38662046e-01,\n",
    "                   1.21789359e-01, 1.40601563e-03, 2.18950058e-02, 8.25346440e-03,\n",
    "                   1.72732385e-02, 6.87718738e-02, 8.07756585e-02, 8.39074460e-02,\n",
    "                   2.95682297e-02])\n",
    "phin_sup = [0.00000000e+00, 3.14159265e+00, -3.14159265e+00, -6.03152647e-17,\n",
    "            0.00000000e+00, 4.90509507e-16, -3.14159265e+00, -3.14159265e+00,\n",
    "            -3.14159265e+00, -4.59198916e-15, -3.14159265e+00, 3.14159265e+00,\n",
    "            -3.14159265e+00,  3.14159265e+00,  3.14159265e+00,  3.14159265e+00,\n",
    "            3.14159265e+00, -2.03092706e-16,  2.51508098e-16,  0.00000000e+00,\n",
    "            -1.20238959e-15]\n",
    "\n",
    "an_inf = [-1.71428222, 0.13538015, 0.13626947, 0.47015748, 0.16971303,\n",
    "          0.02041353, 0.1253294, 0.24046143,  0.00648812,  0.03988416,\n",
    "          0.00206612,  0.0096856, 0.03662899,  0.0768686,   0.05076733,\n",
    "          0.02945466,  0.01157774,  0.02443473, 0.01943924,  0.00324861,\n",
    "          0.02079461]\n",
    "phin_inf = [3.14159265e+00, -3.14159265e+00,  0.00000000e+00, -3.14159265e+00,\n",
    "            -2.39412760e-16,  3.14159265e+00,  3.14159265e+00, -3.14159265e+00,\n",
    "            -3.13121812e-15,  3.14159265e+00, -3.14159265e+00, -3.14159265e+00,\n",
    "            0.00000000e+00,  3.14159265e+00,  3.14159265e+00, -3.14159265e+00,\n",
    "            -4.38680974e-16, -3.14159265e+00,  1.56763302e-15,  3.14159265e+00,\n",
    "            3.14159265e+00]"
   ]
  },
  {
   "cell_type": "code",
   "execution_count": null,
   "metadata": {},
   "outputs": [],
   "source": [
    "def synthesis(t,An,phi_n):\n",
    "    #à compléter\n",
    "    return x\n",
    "\n",
    "#On considère que le signal est périodique de période 14 sec. \n",
    "#On se concentrera sur l'intervalle de temps [-7; 7]sec\n",
    "Ts = 0.01 #sampling period\n",
    "T0 = 14 #(t[-1]-t[0])\n",
    "t = np.arange(0, T0, Ts)\n",
    "f0 = 1/T0\n",
    "t_new = np.arange(-7,7,Ts)\n",
    "for an, phin in zip([an_sup, an_inf], [phin_sup, phin_inf]):\n",
    "    f_new = synthesis(t_new,an,phin)\n",
    "    plt.plot(t_new,f_new,\"r\")\n",
    "    plt.ylim([-3,3])\n",
    "plt.show()"
   ]
  },
  {
   "cell_type": "markdown",
   "metadata": {},
   "source": [
    "Pour les curieux, le code complet peut être trouvé ici: https://www.enib.fr/~choqueuse/articles/signal_processing/batman_fourier.html"
   ]
  }
 ],
 "metadata": {
  "kernelspec": {
   "display_name": "Python 3",
   "language": "python",
   "name": "python3"
  },
  "language_info": {
   "codemirror_mode": {
    "name": "ipython",
    "version": 3
   },
   "file_extension": ".py",
   "mimetype": "text/x-python",
   "name": "python",
   "nbconvert_exporter": "python",
   "pygments_lexer": "ipython3",
   "version": "3.8.10"
  }
 },
 "nbformat": 4,
 "nbformat_minor": 2
}
