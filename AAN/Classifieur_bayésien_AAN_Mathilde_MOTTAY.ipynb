{
 "cells": [
  {
   "cell_type": "markdown",
   "metadata": {},
   "source": [
    "### Mathilde MOTTAY\n",
    "# Apprentissage Automatique Numérique\n",
    "# Mini-projet : classifieur bayésien"
   ]
  },
  {
   "cell_type": "markdown",
   "metadata": {},
   "source": [
    "L'objectif de ce TP est de programmer un **classifieur bayésien**. \n",
    "\n",
    "## Chargement du jeu de données\n",
    "\n",
    "On charge le jeu de données Iris et on affiche la partie **data** (description des données en termes d'attributs) et la partie **target** (classe, cible, étiquette)."
   ]
  },
  {
   "cell_type": "code",
   "execution_count": null,
   "metadata": {
    "scrolled": true
   },
   "outputs": [],
   "source": [
    "from sklearn import datasets \n",
    "iris = datasets.load_iris()\n",
    "print (\"Data :\\n\", iris.data)\n",
    "print (\"\\nTarget :\\n\", iris.target)"
   ]
  },
  {
   "cell_type": "markdown",
   "metadata": {},
   "source": [
    "## Division de l'échantillon d'apprentissage "
   ]
  },
  {
   "cell_type": "markdown",
   "metadata": {},
   "source": [
    "Les données étant triées par classe, on les mélange."
   ]
  },
  {
   "cell_type": "code",
   "execution_count": null,
   "metadata": {
    "scrolled": true
   },
   "outputs": [],
   "source": [
    "import numpy as np\n",
    "import scipy.stats\n",
    "\n",
    "Ciris = np.c_[iris.data.reshape(len(iris.data), -1), iris.target.reshape(len(iris.target), -1)]\n",
    "np.random.seed(987654321)\n",
    "np.random.shuffle(Ciris)\n",
    "shuffledIrisData = Ciris[ :, :iris.data.size//len(iris.data)].reshape(iris.data.shape)\n",
    "shuffledIrisTarget = Ciris[ :, iris.data.size//len(iris.data) :].reshape(iris.target.shape)\n",
    "print (shuffledIrisData)"
   ]
  },
  {
   "cell_type": "markdown",
   "metadata": {},
   "source": [
    "On divise les données en trois parties : \n",
    "    - Apprentissage : 100 premiers exemples\n",
    "    - Développement : 30 exemples suivants \n",
    "    - Test : 20 derniers exemples "
   ]
  },
  {
   "cell_type": "code",
   "execution_count": null,
   "metadata": {},
   "outputs": [],
   "source": [
    "# Apprentissage \n",
    "dataApprentissage = shuffledIrisData[:100]\n",
    "targetApprentissage = shuffledIrisTarget[:100]\n",
    "nbDonneesApprentissage = 100\n",
    "\n",
    "# Développement \n",
    "dataDeveloppement = shuffledIrisData[100:130]\n",
    "targetDeveloppement = shuffledIrisTarget[100:130]\n",
    "nbDonneesDeveloppement = 30 \n",
    "\n",
    "# Test\n",
    "dataTest = shuffledIrisData[130:150]\n",
    "targetTest = shuffledIrisTarget[130:150]\n",
    "nbDonneesTest = 20"
   ]
  },
  {
   "cell_type": "markdown",
   "metadata": {},
   "source": [
    "## Phase d'apprentissage"
   ]
  },
  {
   "cell_type": "markdown",
   "metadata": {},
   "source": [
    "On utilise les données d'apprentissage et leur classe afin de déterminer les paramètres de notre classifieur Bayésien. "
   ]
  },
  {
   "cell_type": "markdown",
   "metadata": {},
   "source": [
    "- **Estimation des probabilités à priori pour les setosa, versicolor et virginica**"
   ]
  },
  {
   "cell_type": "code",
   "execution_count": 4,
   "metadata": {
    "scrolled": false
   },
   "outputs": [
    {
     "name": "stdout",
     "output_type": "stream",
     "text": [
      "Il y a  32 setosa,  37  versicolor et  31  virginica.\n",
      "\n",
      "Probabilité à priori Setosa =  0.32\n",
      "Probabilité à priori Versicolor =  0.37\n",
      "Probabilité à priori Virginica =  0.31\n"
     ]
    }
   ],
   "source": [
    "SETOSA = 0\n",
    "VERSICOLOR = 1\n",
    "VIRGINICA = 2\n",
    "\n",
    "# Initialisation des compteurs setosa, versicolor et virginica à 0 \n",
    "cptSetosa = 0\n",
    "cptVersicolor = 0\n",
    "cptVirginica = 0\n",
    "\n",
    "# On calcule le nombre de setosa, versicolor et virginica en parcourant le tableau targetApprentissage.\n",
    "# 0 --> setosa \n",
    "# 1 --> versicolor\n",
    "# 2 --> virginica \n",
    "for i in targetApprentissage: \n",
    "    if i == SETOSA: \n",
    "        cptSetosa += 1\n",
    "    elif i == VERSICOLOR: \n",
    "        cptVersicolor += 1\n",
    "    elif i == VIRGINICA:\n",
    "        cptVirginica += 1\n",
    "\n",
    "print (\"Il y a \", cptSetosa, \"setosa, \", cptVersicolor, \" versicolor et \", cptVirginica, \" virginica.\")\n",
    "\n",
    "# Calcul des probabilités à priori pour i = {0, 1, 2} \n",
    "probaAPrioriSetosa = cptSetosa/nbDonneesApprentissage\n",
    "probaAPrioriVersicolor = cptVersicolor/nbDonneesApprentissage\n",
    "probaAPrioriVirginica = cptVirginica/nbDonneesApprentissage\n",
    "print (\"\\nProbabilité à priori Setosa = \", probaAPrioriSetosa)\n",
    "print (\"Probabilité à priori Versicolor = \", probaAPrioriVersicolor)\n",
    "print (\"Probabilité à priori Virginica = \", probaAPrioriVirginica)"
   ]
  },
  {
   "cell_type": "markdown",
   "metadata": {},
   "source": [
    "- **Estimation des vraisemblances**\n",
    "\n",
    "Pour chaque classe, on obtient sa moyenne, sa variance et son écart-type."
   ]
  },
  {
   "cell_type": "code",
   "execution_count": 5,
   "metadata": {},
   "outputs": [
    {
     "name": "stdout",
     "output_type": "stream",
     "text": [
      "Caractéristiques : [sepal Length, sepal Width, petal Length, petal Width]\n",
      "\n",
      "Moyenne Setosa  :  [4.971875 3.40625  1.459375 0.23125 ]\n",
      "Moyenne Versicolor :  [5.82972973 2.75405405 4.16756757 1.28918919]\n",
      "Moyenne Virginica :  [6.54516129 3.01612903 5.51290323 2.02903226]\n",
      "\n",
      "Variance Setosa :  [0.10595766 0.12189516 0.03861895 0.00931452]\n",
      "Variance Versicolor  [0.24436937 0.10144144 0.20336336 0.03376877]\n",
      "Variance Virginica  [0.28589247 0.09073118 0.25916129 0.0727957 ]\n",
      "\n",
      "Ecart-type Setosa :  [0.32551138 0.34913488 0.19651705 0.09651174]\n",
      "Ecart-type Versicolor :  [0.4943373  0.31849873 0.45095827 0.18376281]\n",
      "Ecart-type Virginica :  [0.53468914 0.30121617 0.50907886 0.26980678]\n"
     ]
    }
   ],
   "source": [
    "COL_SEPAL_LENGTH = 0\n",
    "COL_SEPAL_WIDTH = 1\n",
    "COL_PETAL_LENGTH = 2\n",
    "COL_PETAL_WIDTH = 3\n",
    "\n",
    "# On commence par récupérer, dans 3 tableaux (un pour chaque classe), les caractéristiques des iris : \n",
    "# - la longueur des sépales (Sepal Length) --> indice 0\n",
    "# - la largeur des sépales (Sepal Width) --> indice 1\n",
    "# - la longueur des pétales (Petal Length) --> indice 2\n",
    "# - la largeur des pétales (Petal Width) --> indice 3\n",
    "setosaFeatures = [] \n",
    "versicolorFeatures = []\n",
    "virginicaFeatures = []\n",
    "\n",
    "for i in range(nbDonneesApprentissage):    \n",
    "    if targetApprentissage[i] == SETOSA: \n",
    "        setosaFeatures.append([dataApprentissage[i][COL_SEPAL_LENGTH], dataApprentissage[i][COL_SEPAL_WIDTH], dataApprentissage[i][COL_PETAL_LENGTH], dataApprentissage[i][COL_PETAL_WIDTH]])\n",
    "    elif targetApprentissage[i] == VERSICOLOR:\n",
    "        versicolorFeatures.append([dataApprentissage[i][COL_SEPAL_LENGTH], dataApprentissage[i][COL_SEPAL_WIDTH], dataApprentissage[i][COL_PETAL_LENGTH], dataApprentissage[i][COL_PETAL_WIDTH]])\n",
    "    elif targetApprentissage[i] == VIRGINICA:\n",
    "        virginicaFeatures.append([dataApprentissage[i][COL_SEPAL_LENGTH], dataApprentissage[i][COL_SEPAL_WIDTH], dataApprentissage[i][COL_PETAL_LENGTH], dataApprentissage[i][COL_PETAL_WIDTH]])\n",
    "        \n",
    "print (\"Caractéristiques : [sepal Length, sepal Width, petal Length, petal Width]\")\n",
    "\n",
    "# Calcul des moyennes (par classe) \n",
    "moySetosa = np.mean(setosaFeatures,0)\n",
    "moyVersicolor = np.mean(versicolorFeatures,0)\n",
    "moyVirginica = np.mean(virginicaFeatures,0)\n",
    "print (\"\\nMoyenne Setosa  : \" , moySetosa)\n",
    "print (\"Moyenne Versicolor : \" , moyVersicolor)\n",
    "print (\"Moyenne Virginica : \" , moyVirginica)\n",
    "\n",
    "# Calcul des variances (par classe) \n",
    "print (\"\\nVariance Setosa : \", np.var(setosaFeatures,0, ddof = 1)) # ddof = 1 pour diviser par N-1\n",
    "print (\"Variance Versicolor \", np.var(versicolorFeatures,0, ddof = 1))\n",
    "print (\"Variance Virginica \", np.var(virginicaFeatures,0, ddof = 1))\n",
    "\n",
    "# La covariance n'est pas utile car nous ne sommes pas dans un modèle bayésien naïf. \n",
    "# Par conséquent, la variance et la moyenne suffisent. \n",
    "\n",
    "# Calcul des écarts-types (par classe) \n",
    "stdSetosa = np.std(setosaFeatures,0, ddof = 1)\n",
    "stdVersicolor = np.std(versicolorFeatures,0, ddof = 1)\n",
    "stdVirginica = np.std(virginicaFeatures,0, ddof = 1)\n",
    "print (\"\\nEcart-type Setosa : \", stdSetosa)\n",
    "print (\"Ecart-type Versicolor : \", stdVersicolor)\n",
    "print (\"Ecart-type Virginica : \", stdVirginica)"
   ]
  },
  {
   "cell_type": "markdown",
   "metadata": {},
   "source": [
    "On suppose que les vraisemblances suivent une **loi Gaussienne**. On les stocke dans une matrice pour les utiliser facilement dans la phase de classification. "
   ]
  },
  {
   "cell_type": "code",
   "execution_count": 6,
   "metadata": {},
   "outputs": [],
   "source": [
    "matriceGaussiennes = np.zeros((3,4))\n",
    "\n",
    "# Calcule les gaussiennes en utilisant les moyennes et écarts-types et les stocke dans la matrice \n",
    "def calculGaussiennes(sepalLength, sepalWidth, petalLength, petalWidth) :\n",
    "    matriceGaussiennes[SETOSA][COL_SEPAL_LENGTH] = scipy.stats.norm.pdf(sepalLength,moySetosa[COL_SEPAL_LENGTH],stdSetosa[COL_SEPAL_LENGTH]) # Setosa - Sepal Length\n",
    "    matriceGaussiennes[SETOSA][COL_SEPAL_WIDTH] = scipy.stats.norm.pdf(sepalWidth,moySetosa[COL_SEPAL_WIDTH],stdSetosa[COL_SEPAL_WIDTH]) # Setosa - Sepal Width \n",
    "    matriceGaussiennes[SETOSA][COL_PETAL_LENGTH] = scipy.stats.norm.pdf(petalLength,moySetosa[COL_PETAL_LENGTH],stdSetosa[COL_PETAL_LENGTH]) # Setosa - Petal Length\n",
    "    matriceGaussiennes[SETOSA][COL_PETAL_WIDTH] = scipy.stats.norm.pdf(petalWidth,moySetosa[COL_PETAL_WIDTH],stdSetosa[COL_PETAL_WIDTH]) # Setosa - Petal Width \n",
    "    matriceGaussiennes[VERSICOLOR][COL_SEPAL_LENGTH] = scipy.stats.norm.pdf(sepalLength,moyVersicolor[COL_SEPAL_LENGTH],stdVersicolor[COL_SEPAL_LENGTH]) # Versicolor - Sepal Length\n",
    "    matriceGaussiennes[VERSICOLOR][COL_SEPAL_WIDTH] = scipy.stats.norm.pdf(sepalWidth,moyVersicolor[COL_SEPAL_WIDTH],stdVersicolor[COL_SEPAL_WIDTH]) # Versicolor - Sepal Width \n",
    "    matriceGaussiennes[VERSICOLOR][COL_PETAL_LENGTH] = scipy.stats.norm.pdf(petalLength,moyVersicolor[COL_PETAL_LENGTH],stdVersicolor[COL_PETAL_LENGTH]) # Versicolor - Petal Length \n",
    "    matriceGaussiennes[VERSICOLOR][COL_PETAL_WIDTH] = scipy.stats.norm.pdf(petalWidth,moyVersicolor[COL_PETAL_WIDTH],stdVersicolor[COL_PETAL_WIDTH]) # Versicolor - Petal Width\n",
    "    matriceGaussiennes[VIRGINICA][COL_SEPAL_LENGTH] = scipy.stats.norm.pdf(sepalLength,moyVirginica[COL_SEPAL_LENGTH],stdVirginica[COL_SEPAL_LENGTH]) # Virginica - Sepal Length\n",
    "    matriceGaussiennes[VIRGINICA][COL_SEPAL_WIDTH] = scipy.stats.norm.pdf(sepalWidth,moyVirginica[COL_SEPAL_WIDTH],stdVirginica[COL_SEPAL_WIDTH]) # Virginica - Sepal Width \n",
    "    matriceGaussiennes[VIRGINICA][COL_PETAL_LENGTH] = scipy.stats.norm.pdf(petalLength,moyVirginica[COL_PETAL_LENGTH],stdVirginica[COL_PETAL_LENGTH]) # Virginica - Petal Length\n",
    "    matriceGaussiennes[VIRGINICA][COL_PETAL_WIDTH] = scipy.stats.norm.pdf(petalWidth,moyVirginica[COL_PETAL_WIDTH],stdVirginica[COL_PETAL_WIDTH]) # Virginica - Petal Width"
   ]
  },
  {
   "cell_type": "markdown",
   "metadata": {},
   "source": [
    "## Phase de développement"
   ]
  },
  {
   "cell_type": "markdown",
   "metadata": {},
   "source": [
    "Pendant la phase de développement, on utilise des **modèles** (différentes variantes) pour classer les données. Dans chaque modèle on calcule les **probabilités à posteriori par classe** avec les paramètres déterminés lors de la phase d’apprentissage. On calcule ensuite le **taux d'erreurs** de chaque modèle puisqu'on dispose des classes correctes, pour déterminer le meilleur à utiliser pendant la phase d'évaluation. "
   ]
  },
  {
   "cell_type": "markdown",
   "metadata": {},
   "source": [
    "### 4 modèles à une caractéristique\n",
    "- Modèle 1 : Longueur des sépales (Sepal Length)\n",
    "- Modèle 2 : Largeur des sépales (Sepal Width)\n",
    "- Modèle 3 : Longueur des pétales (Petal Length)\n",
    "- Modèle 4 : Largeur des pétales (Petal Width)"
   ]
  },
  {
   "cell_type": "code",
   "execution_count": 7,
   "metadata": {},
   "outputs": [],
   "source": [
    "probaAPosterioriParClasseModele1 = []\n",
    "probaAPosterioriParClasseModele2 = []\n",
    "probaAPosterioriParClasseModele3 = []\n",
    "probaAPosterioriParClasseModele4 = []\n",
    "\n",
    "# Calcule les probabilités à posteriori par classe pour un modèle à une caractéristique \n",
    "def modeleUneCaracteristique(c): \n",
    "    probaAPosterioriSetosa = matriceGaussiennes[SETOSA][c] * probaAPrioriSetosa\n",
    "    probaAPosterioriVersicolor = matriceGaussiennes[VERSICOLOR][c] * probaAPrioriVersicolor\n",
    "    probaAPosterioriVirginica = matriceGaussiennes[VIRGINICA][c] * probaAPrioriVirginica \n",
    "    \n",
    "    # Modèle 1\n",
    "    if c == COL_SEPAL_LENGTH: \n",
    "        probaAPosterioriParClasseModele1.append([probaAPosterioriSetosa, probaAPosterioriVersicolor, probaAPosterioriVirginica])\n",
    "    # Modèle 2\n",
    "    elif c == COL_SEPAL_WIDTH: \n",
    "        probaAPosterioriParClasseModele2.append([probaAPosterioriSetosa, probaAPosterioriVersicolor, probaAPosterioriVirginica])\n",
    "    # Modèle 3\n",
    "    elif c == COL_PETAL_LENGTH:\n",
    "        probaAPosterioriParClasseModele3.append([probaAPosterioriSetosa, probaAPosterioriVersicolor, probaAPosterioriVirginica])\n",
    "    # Modèle 4\n",
    "    elif c == COL_PETAL_WIDTH: \n",
    "        probaAPosterioriParClasseModele4.append([probaAPosterioriSetosa, probaAPosterioriVersicolor, probaAPosterioriVirginica])"
   ]
  },
  {
   "cell_type": "markdown",
   "metadata": {},
   "source": [
    "### 6 modèles à deux caractéristiques\n",
    "- Modèle 5 - Longueur des sépales (Sepal Length) et largeur des sépales (Sepal Width) \n",
    "- Modèle 6 - Longueur des sépales (Sepal Length) et longueur des pétales (Petal Length)\n",
    "- Modèle 7 - Longueur des sépales (Sepal Length) et largueur des pétales (Petal Width)\n",
    "- Modèle 8 - Largeur des sépales (Sepal Width) et longueur des pétales (Petal Length) \n",
    "- Modèle 9 - Largeur des sépales (Sepal Width) et largeur des pétales (Petal Width)\n",
    "- Modèle 10 - Longueur des pétales (Petal Length) et largeur des pétales (Petal Width)"
   ]
  },
  {
   "cell_type": "code",
   "execution_count": 8,
   "metadata": {},
   "outputs": [],
   "source": [
    "probaAPosterioriParClasseModele5 = []\n",
    "probaAPosterioriParClasseModele6 = []\n",
    "probaAPosterioriParClasseModele7 = []\n",
    "probaAPosterioriParClasseModele8 = []\n",
    "probaAPosterioriParClasseModele9 = []\n",
    "probaAPosterioriParClasseModele10 = []\n",
    "\n",
    "# Calcule les probabilités à posteriori par classe pour un modèle à deux caractéristiques\n",
    "def modeleDeuxCaracteristiques(c1, c2): \n",
    "    probaAPosterioriSetosa = matriceGaussiennes[SETOSA][c1] * matriceGaussiennes[SETOSA][c2] * probaAPrioriSetosa \n",
    "    probaAPosterioriVersicolor = matriceGaussiennes[VERSICOLOR][c1] * matriceGaussiennes[VERSICOLOR][c2] * probaAPrioriVersicolor \n",
    "    probaAPosterioriVirginica = matriceGaussiennes[VIRGINICA][c1] * matriceGaussiennes[VIRGINICA][c2] * probaAPrioriVirginica\n",
    "    \n",
    "    # Modèle 5 \n",
    "    if ((c1 == COL_SEPAL_LENGTH) or (c2 == COL_SEPAL_LENGTH)) and ((c1 == COL_SEPAL_WIDTH) or (c2 == COL_SEPAL_WIDTH)): \n",
    "        probaAPosterioriParClasseModele5.append([probaAPosterioriSetosa, probaAPosterioriVersicolor, probaAPosterioriVirginica])\n",
    "    # Modèle 6 \n",
    "    elif ((c1 == COL_SEPAL_LENGTH) or (c2 == COL_SEPAL_LENGTH)) and ((c1 == COL_PETAL_LENGTH) or (c2 == COL_PETAL_LENGTH)):\n",
    "        probaAPosterioriParClasseModele6.append([probaAPosterioriSetosa, probaAPosterioriVersicolor, probaAPosterioriVirginica])\n",
    "    # Modèle 7\n",
    "    elif ((c1 == COL_SEPAL_LENGTH) or (c2 == COL_SEPAL_LENGTH)) and ((c1 == COL_PETAL_WIDTH) or (c2 == COL_PETAL_WIDTH)):\n",
    "        probaAPosterioriParClasseModele7.append([probaAPosterioriSetosa, probaAPosterioriVersicolor, probaAPosterioriVirginica])\n",
    "    # Modèle 8\n",
    "    elif ((c1 == COL_SEPAL_WIDTH) or (c2 == COL_SEPAL_WIDTH)) and ((c1 == COL_PETAL_LENGTH) or (c2 == COL_PETAL_LENGTH)):\n",
    "        probaAPosterioriParClasseModele8.append([probaAPosterioriSetosa, probaAPosterioriVersicolor, probaAPosterioriVirginica])\n",
    "    # Modèle 9\n",
    "    elif ((c1 == COL_SEPAL_WIDTH) or (c2 == COL_SEPAL_WIDTH)) and ((c1 == COL_PETAL_WIDTH) or (c2 == COL_PETAL_WIDTH)): \n",
    "        probaAPosterioriParClasseModele9.append([probaAPosterioriSetosa, probaAPosterioriVersicolor, probaAPosterioriVirginica])\n",
    "    # Modèle 10\n",
    "    elif ((c1 == COL_PETAL_LENGTH) or (c2 == COL_PETAL_LENGTH)) and ((c1 == COL_PETAL_WIDTH) or (c2 == COL_PETAL_WIDTH)): \n",
    "        probaAPosterioriParClasseModele10.append([probaAPosterioriSetosa, probaAPosterioriVersicolor, probaAPosterioriVirginica])\n"
   ]
  },
  {
   "cell_type": "markdown",
   "metadata": {},
   "source": [
    "### 4 modèles à trois caractéristiques\n",
    "- Modèle 11 - Longueur des sépales (Sepal Length), largeur des sépales (Sepal Width) et longueur des pétales (Petal Length)\n",
    "- Modèle 12 - Longueur des sépales (Sepal Length), largeur des sépales (Sepal Width) et largeur des pétales (Petal Width)\n",
    "- Modèle 13 - Longueur des sépales (Sepal Length), longueur des pétales (Petal Length) et largeur des pétales (Petal Width)\n",
    "- Modèle 14 - Largeur des sépales (Sepal Width), longueur des pétales (Petal Length) et largeur des pétales (Petal Width) "
   ]
  },
  {
   "cell_type": "code",
   "execution_count": 9,
   "metadata": {},
   "outputs": [],
   "source": [
    "probaAPosterioriParClasseModele11 = []\n",
    "probaAPosterioriParClasseModele12 = []\n",
    "probaAPosterioriParClasseModele13 = []\n",
    "probaAPosterioriParClasseModele14 = []\n",
    "\n",
    "# Calcule les probabilités à posteriori par classe pour un modèle à trois caractéristiques\n",
    "def modeleTroisCaracteristiques(c1, c2, c3): \n",
    "    probaAPosterioriSetosa = matriceGaussiennes[SETOSA][c1] * matriceGaussiennes[SETOSA][c2] * matriceGaussiennes[SETOSA][c3] * probaAPrioriSetosa \n",
    "    probaAPosterioriVersicolor = matriceGaussiennes[VERSICOLOR][c1] * matriceGaussiennes[VERSICOLOR][c2] * matriceGaussiennes[VERSICOLOR][c3] * probaAPrioriVersicolor \n",
    "    probaAPosterioriVirginica = matriceGaussiennes[VIRGINICA][c1] * matriceGaussiennes[VIRGINICA][c2] * matriceGaussiennes[VIRGINICA][c3] * probaAPrioriVirginica\n",
    "\n",
    "    # Modèle 11\n",
    "    if(((c1 == COL_SEPAL_LENGTH) or (c2 == COL_SEPAL_LENGTH) or (c3 == COL_SEPAL_LENGTH)) and ((c1 == COL_SEPAL_WIDTH) or (c2 == COL_SEPAL_WIDTH) or (c3 == COL_SEPAL_WIDTH)) and ((c1 == COL_PETAL_LENGTH) or (c2 == COL_PETAL_LENGTH) or (c3 == COL_PETAL_LENGTH))): \n",
    "        probaAPosterioriParClasseModele11.append([probaAPosterioriSetosa, probaAPosterioriVersicolor, probaAPosterioriVirginica])\n",
    "    # Modèle 12\n",
    "    elif(((c1 == COL_SEPAL_LENGTH) or (c2 == COL_SEPAL_LENGTH) or (c3 == COL_SEPAL_LENGTH)) and ((c1 == COL_SEPAL_WIDTH) or (c2 == COL_SEPAL_WIDTH) or (c3 == COL_SEPAL_WIDTH)) and ((c1 == COL_PETAL_WIDTH) or (c2 == COL_PETAL_WIDTH) or (c3 == COL_PETAL_WIDTH))): \n",
    "        probaAPosterioriParClasseModele12.append([probaAPosterioriSetosa, probaAPosterioriVersicolor, probaAPosterioriVirginica])\n",
    "    # Modèle 13\n",
    "    elif(((c1 == COL_SEPAL_LENGTH) or (c2 == COL_SEPAL_LENGTH) or (c3 == COL_SEPAL_LENGTH)) and ((c1 == COL_PETAL_LENGTH) or (c2 == COL_PETAL_LENGTH) or (c3 == COL_PETAL_LENGTH)) and ((c1 == COL_PETAL_WIDTH) or (c2 == COL_PETAL_WIDTH) or (c3 == COL_PETAL_WIDTH))): \n",
    "        probaAPosterioriParClasseModele13.append([probaAPosterioriSetosa, probaAPosterioriVersicolor, probaAPosterioriVirginica])\n",
    "    # Modèle 14\n",
    "    elif(((c1 == COL_SEPAL_WIDTH) or (c2 == COL_SEPAL_WIDTH) or (c3 == COL_SEPAL_WIDTH)) and ((c1 == COL_PETAL_LENGTH) or (c2 == COL_PETAL_LENGTH) or (c3 == COL_PETAL_LENGTH)) and ((c1 == COL_PETAL_WIDTH) or (c2 == COL_PETAL_WIDTH) or (c3 == COL_PETAL_WIDTH))): \n",
    "        probaAPosterioriParClasseModele14.append([probaAPosterioriSetosa, probaAPosterioriVersicolor, probaAPosterioriVirginica])\n",
    "       "
   ]
  },
  {
   "cell_type": "markdown",
   "metadata": {},
   "source": [
    "### Un modèle à quatre caractéristiques\n",
    "- Modèle 15 : Longueur des sépales (Sepal Length), largeur des sépales (Sepal Width), longueur des pétales (Petal Length) et largeur des pétales (Petal Width)"
   ]
  },
  {
   "cell_type": "code",
   "execution_count": 10,
   "metadata": {},
   "outputs": [],
   "source": [
    "probaAPosterioriParClasseModele15 = []\n",
    "\n",
    "# Calcule les probabilités à posteriori par classe pour un modèle à quatre caractéristiques\n",
    "def modeleToutesLesCaracteristiques(): \n",
    "    probaAPosterioriSetosa = matriceGaussiennes[SETOSA][COL_SEPAL_LENGTH] * matriceGaussiennes[SETOSA][COL_SEPAL_WIDTH] * matriceGaussiennes[SETOSA][COL_PETAL_LENGTH] * matriceGaussiennes[SETOSA][COL_PETAL_WIDTH] * probaAPrioriSetosa \n",
    "    probaAPosterioriVersicolor = matriceGaussiennes[VERSICOLOR][COL_SEPAL_LENGTH] * matriceGaussiennes[VERSICOLOR][COL_SEPAL_WIDTH] * matriceGaussiennes[VERSICOLOR][COL_PETAL_LENGTH] * matriceGaussiennes[VERSICOLOR][COL_PETAL_WIDTH] * probaAPrioriVersicolor \n",
    "    probaAPosterioriVirginica = matriceGaussiennes[VIRGINICA][COL_SEPAL_LENGTH] * matriceGaussiennes[VIRGINICA][COL_SEPAL_WIDTH] * matriceGaussiennes[VIRGINICA][COL_PETAL_LENGTH] * matriceGaussiennes[VIRGINICA][COL_PETAL_WIDTH] * probaAPrioriVirginica\n",
    "    probaAPosterioriParClasseModele15.append([probaAPosterioriSetosa, probaAPosterioriVersicolor, probaAPosterioriVirginica])"
   ]
  },
  {
   "cell_type": "markdown",
   "metadata": {},
   "source": [
    "### Calcul du taux d'erreurs "
   ]
  },
  {
   "cell_type": "markdown",
   "metadata": {},
   "source": [
    "On code une fonction pour compter le taux d'erreurs puisqu'on connait la bonne classe pour chaque exemple du corpus. \n",
    "Elle nous permet ensuite de comparer les performances des différents modèles de notre classifieur."
   ]
  },
  {
   "cell_type": "code",
   "execution_count": 11,
   "metadata": {},
   "outputs": [],
   "source": [
    "# Calcule le taux d'erreurs \n",
    "def calculTauxErreurs (probaAPosterioriParClasse, nbValeurs, target): \n",
    "    erreur = 0\n",
    "    for i in range(nbValeurs): \n",
    "        # La classe pour laquelle la probabilité a posteriori est MAXIMUM est la classe reconnue. \n",
    "        # Vérifie si le système a trouvé la bonne classe pour chaque exemple \n",
    "        if target[i] != np.argmax(probaAPosterioriParClasse[i]): \n",
    "            erreur += 1\n",
    "    return ((erreur * 100) / nbValeurs)"
   ]
  },
  {
   "cell_type": "markdown",
   "metadata": {},
   "source": [
    "### Utiliser les modèles pour classer les données"
   ]
  },
  {
   "cell_type": "markdown",
   "metadata": {},
   "source": [
    "On traite séquentiellement tous les exemples du corpus de développement. "
   ]
  },
  {
   "cell_type": "code",
   "execution_count": 12,
   "metadata": {},
   "outputs": [
    {
     "name": "stdout",
     "output_type": "stream",
     "text": [
      "Taux d'erreurs Modèle 1  :  26.666666666666668 %\n",
      "Taux d'erreurs Modèle 2  :  46.666666666666664 %\n",
      "Taux d'erreurs Modèle 3  :  6.666666666666667 %\n",
      "Taux d'erreurs Modèle 4  :  10.0 %\n",
      "Taux d'erreurs Modèle 5  :  20.0 %\n",
      "Taux d'erreurs Modèle 6  :  13.333333333333334 %\n",
      "Taux d'erreurs Modèle 7  :  10.0 %\n",
      "Taux d'erreurs Modèle 8  :  10.0 %\n",
      "Taux d'erreurs Modèle 9  :  10.0 %\n",
      "Taux d'erreurs Modèle 10 :  13.333333333333334 %\n",
      "Taux d'erreurs Modèle 11 :  16.666666666666668 %\n",
      "Taux d'erreurs Modèle 12 :  13.333333333333334 %\n",
      "Taux d'erreurs Modèle 13 :  10.0 %\n",
      "Taux d'erreurs Modèle 14 :  13.333333333333334 %\n",
      "Taux d'erreurs Modèle 15 :  13.333333333333334 %\n"
     ]
    }
   ],
   "source": [
    "# Affiche le taux d'erreurs de tous les modèles \n",
    "def afficheTauxErreursTousLesModeles(nbDonnees, target): \n",
    "    print (\"Taux d'erreurs Modèle 1  : \", calculTauxErreurs(probaAPosterioriParClasseModele1, nbDonnees, target), \"%\")\n",
    "    print (\"Taux d'erreurs Modèle 2  : \", calculTauxErreurs(probaAPosterioriParClasseModele2, nbDonnees, target), \"%\")\n",
    "    print (\"Taux d'erreurs Modèle 3  : \", calculTauxErreurs(probaAPosterioriParClasseModele3, nbDonnees, target), \"%\")\n",
    "    print (\"Taux d'erreurs Modèle 4  : \", calculTauxErreurs(probaAPosterioriParClasseModele4, nbDonnees, target), \"%\")\n",
    "    print (\"Taux d'erreurs Modèle 5  : \", calculTauxErreurs(probaAPosterioriParClasseModele5, nbDonnees, target), \"%\")\n",
    "    print (\"Taux d'erreurs Modèle 6  : \", calculTauxErreurs(probaAPosterioriParClasseModele6, nbDonnees, target), \"%\")\n",
    "    print (\"Taux d'erreurs Modèle 7  : \", calculTauxErreurs(probaAPosterioriParClasseModele7, nbDonnees, target), \"%\")\n",
    "    print (\"Taux d'erreurs Modèle 8  : \", calculTauxErreurs(probaAPosterioriParClasseModele8, nbDonnees, target), \"%\")\n",
    "    print (\"Taux d'erreurs Modèle 9  : \", calculTauxErreurs(probaAPosterioriParClasseModele9, nbDonnees, target), \"%\")\n",
    "    print (\"Taux d'erreurs Modèle 10 : \", calculTauxErreurs(probaAPosterioriParClasseModele10, nbDonnees, target), \"%\")\n",
    "    print (\"Taux d'erreurs Modèle 11 : \", calculTauxErreurs(probaAPosterioriParClasseModele11, nbDonnees, target), \"%\")\n",
    "    print (\"Taux d'erreurs Modèle 12 : \", calculTauxErreurs(probaAPosterioriParClasseModele12, nbDonnees, target), \"%\")\n",
    "    print (\"Taux d'erreurs Modèle 13 : \", calculTauxErreurs(probaAPosterioriParClasseModele13, nbDonnees, target), \"%\")\n",
    "    print (\"Taux d'erreurs Modèle 14 : \", calculTauxErreurs(probaAPosterioriParClasseModele14, nbDonnees, target), \"%\")\n",
    "    print (\"Taux d'erreurs Modèle 15 : \", calculTauxErreurs(probaAPosterioriParClasseModele15, nbDonnees, target), \"%\")\n",
    "\n",
    "# Vide les tableaux contenant les probabilités à posteriori (pour tous les modèles)\n",
    "def videProbaAPosterioriTousModeles(): \n",
    "    probaAPosterioriParClasseModele1.clear()\n",
    "    probaAPosterioriParClasseModele2.clear()\n",
    "    probaAPosterioriParClasseModele3.clear()\n",
    "    probaAPosterioriParClasseModele4.clear()\n",
    "    probaAPosterioriParClasseModele5.clear()\n",
    "    probaAPosterioriParClasseModele6.clear()\n",
    "    probaAPosterioriParClasseModele7.clear()\n",
    "    probaAPosterioriParClasseModele8.clear()\n",
    "    probaAPosterioriParClasseModele9.clear()\n",
    "    probaAPosterioriParClasseModele10.clear()\n",
    "    probaAPosterioriParClasseModele11.clear()\n",
    "    probaAPosterioriParClasseModele12.clear()\n",
    "    probaAPosterioriParClasseModele13.clear()\n",
    "    probaAPosterioriParClasseModele14.clear()\n",
    "    probaAPosterioriParClasseModele15.clear()\n",
    "\n",
    "# On traite séquentiellement tous les exemples du corpus de développement. \n",
    "def traitementCorpusDeveloppement(dataDeveloppement, nbDonneesDeveloppement): \n",
    "    videProbaAPosterioriTousModeles()\n",
    "\n",
    "    for i in range(nbDonneesDeveloppement):\n",
    "        calculGaussiennes(dataDeveloppement[i][COL_SEPAL_LENGTH], dataDeveloppement[i][COL_SEPAL_WIDTH], dataDeveloppement[i][COL_PETAL_LENGTH], dataDeveloppement[i][COL_PETAL_WIDTH])\n",
    "        modeleUneCaracteristique(COL_SEPAL_LENGTH) # Modèle 1 \n",
    "        modeleUneCaracteristique(COL_SEPAL_WIDTH) # Modèle 2 \n",
    "        modeleUneCaracteristique(COL_PETAL_LENGTH) # Modèle 3\n",
    "        modeleUneCaracteristique(COL_PETAL_WIDTH) # Modèle 4 \n",
    "        modeleDeuxCaracteristiques(COL_SEPAL_LENGTH,COL_SEPAL_WIDTH) # Modèle 5 \n",
    "        modeleDeuxCaracteristiques(COL_SEPAL_LENGTH,COL_PETAL_LENGTH) # Modèle 6 \n",
    "        modeleDeuxCaracteristiques(COL_SEPAL_LENGTH,COL_PETAL_WIDTH) # Modèle 7 \n",
    "        modeleDeuxCaracteristiques(COL_SEPAL_WIDTH,COL_PETAL_LENGTH) # Modèle 8 \n",
    "        modeleDeuxCaracteristiques(COL_SEPAL_WIDTH,COL_PETAL_WIDTH) # Modèle 9 \n",
    "        modeleDeuxCaracteristiques(COL_PETAL_LENGTH,COL_PETAL_WIDTH) # Modèle 10\n",
    "        modeleTroisCaracteristiques(COL_SEPAL_LENGTH,COL_SEPAL_WIDTH,COL_PETAL_LENGTH) # Modèle 11 \n",
    "        modeleTroisCaracteristiques(COL_SEPAL_LENGTH,COL_SEPAL_WIDTH,COL_PETAL_WIDTH) # Modèle 12 \n",
    "        modeleTroisCaracteristiques(COL_SEPAL_LENGTH,COL_PETAL_LENGTH,COL_PETAL_WIDTH) # Modèle 13 \n",
    "        modeleTroisCaracteristiques(COL_SEPAL_WIDTH,COL_PETAL_LENGTH,COL_PETAL_WIDTH) # Modèle 14 \n",
    "        modeleToutesLesCaracteristiques() # Modèle 15\n",
    "\n",
    "traitementCorpusDeveloppement(dataDeveloppement,nbDonneesDeveloppement)\n",
    "afficheTauxErreursTousLesModeles(nbDonneesDeveloppement,targetDeveloppement)"
   ]
  },
  {
   "cell_type": "markdown",
   "metadata": {
    "scrolled": false
   },
   "source": [
    "On observe que le modèle avec le moins d'erreurs est le **modèle N°3**. \n",
    "Il utilise une seule caractéristique : la **longueur des pétales** (Petal Length).\n",
    "\n",
    "On décide de garder ce modèle puisque c'est la variante dont le taux d'erreur est **minimal** (6.666666666666667 %). "
   ]
  },
  {
   "cell_type": "markdown",
   "metadata": {},
   "source": [
    "## Phase d'évaluation"
   ]
  },
  {
   "cell_type": "markdown",
   "metadata": {},
   "source": [
    "On applique notre **meilleur modèle (modèle 3)** sur les données de Test. Pour rappel, il n'utilise qu'une seule caractéristique : la longueur des pétales. "
   ]
  },
  {
   "cell_type": "code",
   "execution_count": 13,
   "metadata": {
    "scrolled": false
   },
   "outputs": [
    {
     "name": "stdout",
     "output_type": "stream",
     "text": [
      "Taux d'erreurs à la phase d'évaluation :  15.0 %\n"
     ]
    }
   ],
   "source": [
    "videProbaAPosterioriTousModeles()\n",
    "\n",
    "for i in range(nbDonneesTest):\n",
    "    calculGaussiennes(dataTest[i][COL_SEPAL_LENGTH], dataTest[i][COL_SEPAL_WIDTH], dataTest[i][COL_PETAL_LENGTH], dataTest[i][COL_PETAL_WIDTH])\n",
    "    modeleUneCaracteristique(COL_PETAL_LENGTH) # Modèle 3 - Petal Length\n",
    "        \n",
    "print (\"Taux d'erreurs à la phase d'évaluation : \", calculTauxErreurs(probaAPosterioriParClasseModele3, nbDonneesTest, targetTest), \"%\")"
   ]
  },
  {
   "cell_type": "markdown",
   "metadata": {},
   "source": [
    "Le taux d'erreurs à la phase d'évaluation est de **15%**."
   ]
  }
 ],
 "metadata": {
  "kernelspec": {
   "display_name": "Python 3",
   "language": "python",
   "name": "python3"
  },
  "language_info": {
   "codemirror_mode": {
    "name": "ipython",
    "version": 3
   },
   "file_extension": ".py",
   "mimetype": "text/x-python",
   "name": "python",
   "nbconvert_exporter": "python",
   "pygments_lexer": "ipython3",
   "version": "3.7.3"
  }
 },
 "nbformat": 4,
 "nbformat_minor": 5
}
