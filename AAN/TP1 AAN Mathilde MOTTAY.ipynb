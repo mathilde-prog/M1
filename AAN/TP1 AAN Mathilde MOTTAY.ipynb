{
 "cells": [
  {
   "cell_type": "markdown",
   "metadata": {},
   "source": [
    "# TP1 Apprentissage Automatique \n",
    "## Mathilde MOTTAY"
   ]
  },
  {
   "cell_type": "markdown",
   "metadata": {},
   "source": [
    "### Pour commencer"
   ]
  },
  {
   "cell_type": "code",
   "execution_count": 1,
   "metadata": {
    "scrolled": true
   },
   "outputs": [
    {
     "ename": "ModuleNotFoundError",
     "evalue": "No module named 'sklearn'",
     "output_type": "error",
     "traceback": [
      "\u001b[0;31m---------------------------------------------------------------------------\u001b[0m",
      "\u001b[0;31mModuleNotFoundError\u001b[0m                       Traceback (most recent call last)",
      "\u001b[0;32m<ipython-input-1-5ebaf9d8b934>\u001b[0m in \u001b[0;36m<module>\u001b[0;34m\u001b[0m\n\u001b[0;32m----> 1\u001b[0;31m \u001b[0;32mfrom\u001b[0m \u001b[0msklearn\u001b[0m \u001b[0;32mimport\u001b[0m \u001b[0mdatasets\u001b[0m\u001b[0;34m\u001b[0m\u001b[0;34m\u001b[0m\u001b[0m\n\u001b[0m\u001b[1;32m      2\u001b[0m \u001b[0miris\u001b[0m \u001b[0;34m=\u001b[0m \u001b[0mdatasets\u001b[0m\u001b[0;34m.\u001b[0m\u001b[0mload_iris\u001b[0m\u001b[0;34m(\u001b[0m\u001b[0;34m)\u001b[0m\u001b[0;34m\u001b[0m\u001b[0;34m\u001b[0m\u001b[0m\n\u001b[1;32m      3\u001b[0m \u001b[0mprint\u001b[0m \u001b[0;34m(\u001b[0m\u001b[0miris\u001b[0m\u001b[0;34m.\u001b[0m\u001b[0mdata\u001b[0m\u001b[0;34m)\u001b[0m\u001b[0;34m\u001b[0m\u001b[0;34m\u001b[0m\u001b[0m\n\u001b[1;32m      4\u001b[0m \u001b[0mprint\u001b[0m \u001b[0;34m(\u001b[0m\u001b[0miris\u001b[0m\u001b[0;34m.\u001b[0m\u001b[0mtarget\u001b[0m\u001b[0;34m)\u001b[0m\u001b[0;34m\u001b[0m\u001b[0;34m\u001b[0m\u001b[0m\n",
      "\u001b[0;31mModuleNotFoundError\u001b[0m: No module named 'sklearn'"
     ]
    }
   ],
   "source": [
    "from sklearn import datasets \n",
    "iris = datasets.load_iris()\n",
    "print (iris.data)\n",
    "print (iris.target)"
   ]
  },
  {
   "cell_type": "markdown",
   "metadata": {},
   "source": [
    "### 1) Division de l'échantillon d'apprentissage "
   ]
  },
  {
   "cell_type": "markdown",
   "metadata": {},
   "source": [
    "Etant donné que les données sont triées par classe, il faut d'abord les mélanger."
   ]
  },
  {
   "cell_type": "code",
   "execution_count": 110,
   "metadata": {},
   "outputs": [
    {
     "name": "stdout",
     "output_type": "stream",
     "text": [
      "[[4.8 3.4 1.6 0.2]\n",
      " [5.5 2.5 4.  1.3]\n",
      " [6.3 3.3 4.7 1.6]\n",
      " [6.1 2.8 4.7 1.2]\n",
      " [5.1 3.8 1.6 0.2]\n",
      " [6.6 3.  4.4 1.4]\n",
      " [5.8 2.6 4.  1.2]\n",
      " [6.6 2.9 4.6 1.3]\n",
      " [5.1 2.5 3.  1.1]\n",
      " [5.2 3.5 1.5 0.2]\n",
      " [7.2 3.2 6.  1.8]\n",
      " [7.2 3.  5.8 1.6]\n",
      " [5.1 3.3 1.7 0.5]\n",
      " [7.2 3.6 6.1 2.5]\n",
      " [6.4 2.8 5.6 2.2]\n",
      " [5.6 2.9 3.6 1.3]\n",
      " [6.2 3.4 5.4 2.3]\n",
      " [5.1 3.5 1.4 0.2]\n",
      " [4.8 3.1 1.6 0.2]\n",
      " [6.7 3.  5.2 2.3]\n",
      " [4.6 3.2 1.4 0.2]\n",
      " [4.6 3.4 1.4 0.3]\n",
      " [6.1 2.8 4.  1.3]\n",
      " [5.7 2.8 4.5 1.3]\n",
      " [5.9 3.  4.2 1.5]\n",
      " [4.8 3.  1.4 0.1]\n",
      " [4.5 2.3 1.3 0.3]\n",
      " [5.5 2.6 4.4 1.2]\n",
      " [5.7 2.5 5.  2. ]\n",
      " [6.4 3.1 5.5 1.8]\n",
      " [6.3 2.9 5.6 1.8]\n",
      " [4.9 3.1 1.5 0.1]\n",
      " [5.  3.2 1.2 0.2]\n",
      " [5.3 3.7 1.5 0.2]\n",
      " [5.2 2.7 3.9 1.4]\n",
      " [5.1 3.5 1.4 0.3]\n",
      " [7.7 2.8 6.7 2. ]\n",
      " [6.3 2.5 4.9 1.5]\n",
      " [6.7 3.1 4.4 1.4]\n",
      " [6.  3.4 4.5 1.6]\n",
      " [5.7 3.8 1.7 0.3]\n",
      " [6.9 3.1 5.4 2.1]\n",
      " [6.5 3.  5.8 2.2]\n",
      " [5.  3.4 1.6 0.4]\n",
      " [4.8 3.4 1.9 0.2]\n",
      " [6.1 2.9 4.7 1.4]\n",
      " [4.9 3.6 1.4 0.1]\n",
      " [4.9 2.4 3.3 1. ]\n",
      " [4.8 3.  1.4 0.3]\n",
      " [6.1 3.  4.6 1.4]\n",
      " [6.7 3.3 5.7 2.5]\n",
      " [6.5 3.  5.5 1.8]\n",
      " [5.5 2.4 3.8 1.1]\n",
      " [5.6 2.7 4.2 1.3]\n",
      " [5.8 2.7 5.1 1.9]\n",
      " [6.1 3.  4.9 1.8]\n",
      " [6.5 3.2 5.1 2. ]\n",
      " [5.  2.3 3.3 1. ]\n",
      " [6.8 3.2 5.9 2.3]\n",
      " [5.8 2.7 4.1 1. ]\n",
      " [6.1 2.6 5.6 1.4]\n",
      " [5.6 3.  4.1 1.3]\n",
      " [5.2 4.1 1.5 0.1]\n",
      " [6.7 3.1 4.7 1.5]\n",
      " [6.4 3.2 5.3 2.3]\n",
      " [5.5 3.5 1.3 0.2]\n",
      " [5.7 3.  4.2 1.2]\n",
      " [6.4 2.9 4.3 1.3]\n",
      " [6.  2.2 4.  1. ]\n",
      " [5.8 4.  1.2 0.2]\n",
      " [4.7 3.2 1.6 0.2]\n",
      " [5.8 2.7 5.1 1.9]\n",
      " [5.  3.3 1.4 0.2]\n",
      " [7.3 2.9 6.3 1.8]\n",
      " [6.4 3.2 4.5 1.5]\n",
      " [5.6 2.8 4.9 2. ]\n",
      " [4.6 3.6 1.  0.2]\n",
      " [4.6 3.1 1.5 0.2]\n",
      " [6.3 2.7 4.9 1.8]\n",
      " [6.2 2.8 4.8 1.8]\n",
      " [6.9 3.1 5.1 2.3]\n",
      " [6.5 3.  5.2 2. ]\n",
      " [6.5 2.8 4.6 1.5]\n",
      " [5.  2.  3.5 1. ]\n",
      " [5.1 3.7 1.5 0.4]\n",
      " [5.8 2.7 3.9 1.2]\n",
      " [5.6 2.5 3.9 1.1]\n",
      " [5.5 2.4 3.7 1. ]\n",
      " [6.7 3.3 5.7 2.1]\n",
      " [5.6 3.  4.5 1.5]\n",
      " [4.3 3.  1.1 0.1]\n",
      " [5.1 3.4 1.5 0.2]\n",
      " [6.3 3.3 6.  2.5]\n",
      " [5.  3.6 1.4 0.2]\n",
      " [7.7 3.8 6.7 2.2]\n",
      " [5.4 3.  4.5 1.5]\n",
      " [6.3 2.5 5.  1.9]\n",
      " [5.  3.5 1.3 0.3]\n",
      " [5.5 2.3 4.  1.3]\n",
      " [5.1 3.8 1.9 0.4]\n",
      " [6.  2.2 5.  1.5]\n",
      " [6.4 2.7 5.3 1.9]\n",
      " [5.  3.5 1.6 0.6]\n",
      " [5.1 3.8 1.5 0.3]\n",
      " [6.2 2.9 4.3 1.3]\n",
      " [6.2 2.2 4.5 1.5]\n",
      " [4.4 3.2 1.3 0.2]\n",
      " [4.9 3.1 1.5 0.2]\n",
      " [6.  2.7 5.1 1.6]\n",
      " [6.3 2.8 5.1 1.5]\n",
      " [6.8 3.  5.5 2.1]\n",
      " [5.4 3.4 1.7 0.2]\n",
      " [6.7 3.  5.  1.7]\n",
      " [6.3 3.4 5.6 2.4]\n",
      " [5.7 4.4 1.5 0.4]\n",
      " [5.2 3.4 1.4 0.2]\n",
      " [7.7 2.6 6.9 2.3]\n",
      " [4.7 3.2 1.3 0.2]\n",
      " [7.  3.2 4.7 1.4]\n",
      " [5.7 2.9 4.2 1.3]\n",
      " [5.4 3.9 1.7 0.4]\n",
      " [6.7 3.1 5.6 2.4]\n",
      " [5.5 4.2 1.4 0.2]\n",
      " [4.4 3.  1.3 0.2]\n",
      " [6.8 2.8 4.8 1.4]\n",
      " [7.9 3.8 6.4 2. ]\n",
      " [7.7 3.  6.1 2.3]\n",
      " [4.4 2.9 1.4 0.2]\n",
      " [7.6 3.  6.6 2.1]\n",
      " [6.4 2.8 5.6 2.1]\n",
      " [7.4 2.8 6.1 1.9]\n",
      " [4.9 2.5 4.5 1.7]\n",
      " [6.9 3.1 4.9 1.5]\n",
      " [6.9 3.2 5.7 2.3]\n",
      " [5.4 3.7 1.5 0.2]\n",
      " [5.8 2.8 5.1 2.4]\n",
      " [6.  2.9 4.5 1.5]\n",
      " [6.7 2.5 5.8 1.8]\n",
      " [5.4 3.9 1.3 0.4]\n",
      " [5.9 3.2 4.8 1.8]\n",
      " [5.7 2.6 3.5 1. ]\n",
      " [6.  3.  4.8 1.8]\n",
      " [5.4 3.4 1.5 0.4]\n",
      " [4.9 3.  1.4 0.2]\n",
      " [5.7 2.8 4.1 1.3]\n",
      " [5.  3.  1.6 0.2]\n",
      " [6.3 2.3 4.4 1.3]\n",
      " [7.1 3.  5.9 2.1]\n",
      " [5.9 3.  5.1 1.8]\n",
      " [5.  3.4 1.5 0.2]]\n"
     ]
    }
   ],
   "source": [
    "import numpy as np\n",
    "import scipy.stats\n",
    "\n",
    "Ciris = np.c_[iris.data.reshape(len(iris.data), -1), iris.target.reshape(len(iris.target), -1)]\n",
    "np.random.seed(987654321)\n",
    "np.random.shuffle(Ciris)\n",
    "shuffledIrisData = Ciris[ :, :iris.data.size//len(iris.data)].reshape(iris.data.shape)\n",
    "shuffledIrisTarget = Ciris[ :, iris.data.size//len(iris.data) :].reshape(iris.target.shape)\n",
    "print (shuffledIrisData)"
   ]
  },
  {
   "cell_type": "markdown",
   "metadata": {},
   "source": [
    "### 2) Phase d'apprentissage"
   ]
  },
  {
   "cell_type": "markdown",
   "metadata": {},
   "source": [
    "##### Utilisation des données d'apprentissage (100 premiers exemples) et leur classe afin de déterminer les paramètres de notre classifieur Bayésien"
   ]
  },
  {
   "cell_type": "markdown",
   "metadata": {},
   "source": [
    "Estimation des probabilités à priori : "
   ]
  },
  {
   "cell_type": "code",
   "execution_count": 118,
   "metadata": {
    "scrolled": false
   },
   "outputs": [
    {
     "name": "stdout",
     "output_type": "stream",
     "text": [
      "Compteur Setosa =  32\n",
      "Compteur Versicolor =  37\n",
      "Compteur Virginica =  31\n",
      "\n",
      "Probabilité à priori Setosa =  0.32\n",
      "Probabilité à priori Versicolor =  0.37\n",
      "Probabilité à priori Virginica =  0.31\n"
     ]
    }
   ],
   "source": [
    "data = shuffledIrisData[:100]\n",
    "target = shuffledIrisTarget[:100]\n",
    "\n",
    "# Compteur \n",
    "cptSetosa = 0\n",
    "cptVersicolor = 0\n",
    "cptVirginica = 0\n",
    "\n",
    "for f in target: \n",
    "    if f == 0:\n",
    "        cptSetosa += 1\n",
    "    elif f == 1:\n",
    "        cptVersicolor += 1\n",
    "    else :\n",
    "        cptVirginica += 1\n",
    "\n",
    "print (\"Compteur Setosa = \", cptSetosa)\n",
    "print (\"Compteur Versicolor = \", cptVersicolor)\n",
    "print (\"Compteur Virginica = \", cptVirginica)\n",
    "\n",
    "# Calcul probabilité à priori \n",
    "total = cptSetosa + cptVersicolor + cptVirginica \n",
    "pSetosa = cptSetosa/total\n",
    "pVersicolor = cptVersicolor/total\n",
    "pVirginica = cptVirginica/total\n",
    "print (\"\\nProbabilité à priori Setosa = \", pSetosa)\n",
    "print (\"Probabilité à priori Versicolor = \", pVersicolor)\n",
    "print (\"Probabilité à priori Virginica = \", pVirginica)"
   ]
  },
  {
   "cell_type": "markdown",
   "metadata": {},
   "source": [
    "Estimation des vraisemblances :"
   ]
  },
  {
   "cell_type": "code",
   "execution_count": 105,
   "metadata": {
    "scrolled": true
   },
   "outputs": [
    {
     "name": "stdout",
     "output_type": "stream",
     "text": [
      "\n",
      "Moyenne Setosa [length, width] :  [4.971875 3.40625 ]\n",
      "Moyenne Versicolor [length, width] :  [5.82972973 2.75405405]\n",
      "Moyenne Virginica [length, width] :  [6.54516129 3.01612903]\n",
      "\n",
      "Variance Setosa [length, width] :  [0.10595766 0.12189516]\n",
      "Variance Versicolor [length, width] :  [0.24436937 0.10144144]\n",
      "Variance Virginica [length, width] :  [0.28589247 0.09073118]\n",
      "\n",
      "Covariance Setosa\n",
      "[[0.10595766 0.07824597]\n",
      " [0.07824597 0.12189516]]\n",
      "\n",
      "Covariance Versicolor\n",
      "[[0.24436937 0.09529279]\n",
      " [0.09529279 0.10144144]]\n",
      "\n",
      "Covariance Virginica\n",
      "[[0.28589247 0.08824731]\n",
      " [0.08824731 0.09073118]]\n",
      "\n",
      "Ecart-type Setosa :  [0.32551138 0.34913488]\n",
      "Ecart-type Versicolor :  [0.4943373  0.31849873]\n",
      "Ecart-type Virginica :  [0.53468914 0.30121617]\n"
     ]
    }
   ],
   "source": [
    "# On récupère pour les sépales leur longueur et largeur \n",
    "setosaSepal = [] # 0 pour length et 1 pour width \n",
    "versicolorSepal = []\n",
    "virginicaSepal = []\n",
    "\n",
    "for i in range(100): \n",
    "    length = data[i][0]\n",
    "    width = data[i][1]\n",
    "    \n",
    "    if target[i] == 0: \n",
    "        setosaSepal.append([length, width])\n",
    "    elif target[i] == 1:\n",
    "        versicolorSepal.append([length, width])\n",
    "    else: \n",
    "        virginicaSepal.append([length, width])\n",
    "        \n",
    "# print (\"\\nSetosa : \", setosaSepal)\n",
    "# print (\"\\nVersicolor : \", versicolorSepal)\n",
    "# print (\"\\nVirginica : \", virginicaSepal)\n",
    "\n",
    "# Moyenne des longueurs et largeurs des sépales \n",
    "moySetosa = np.mean(setosaSepal,0)\n",
    "moyVersicolor = np.mean(versicolorSepal,0)\n",
    "moyVirginica = np.mean(virginicaSepal,0)\n",
    "print (\"\\nMoyenne Setosa [length, width] : \" , moySetosa)\n",
    "print (\"Moyenne Versicolor [length, width] : \" , moyVersicolor)\n",
    "print (\"Moyenne Virginica [length, width] : \" , moyVirginica)\n",
    "\n",
    "# Variance des longueurs et largeurs des sépales \n",
    "print (\"\\nVariance Setosa [length, width] : \", np.var(setosaSepal,0, ddof = 1)) # ddof = 1 pour diviser par N-1\n",
    "print (\"Variance Versicolor [length, width] : \", np.var(versicolorSepal,0, ddof = 1))\n",
    "print (\"Variance Virginica [length, width] : \", np.var(virginicaSepal,0, ddof = 1))\n",
    "\n",
    "# Covariance des longueurs et largeurs des sépales (\n",
    "# Pas utile car on est dans le modèle bayésien naïf donc la variance et la moyenne suffisent)\n",
    "# Remarque : On retrouve les variances dans la diagonale. \n",
    "print (\"\\nCovariance Setosa\")\n",
    "print(np.cov(np.transpose(setosaSepal)[0], np.transpose(setosaSepal)[1]))\n",
    "print (\"\\nCovariance Versicolor\")\n",
    "print(np.cov(np.transpose(versicolorSepal)[0], np.transpose(versicolorSepal)[1]))\n",
    "print (\"\\nCovariance Virginica\")\n",
    "print(np.cov(np.transpose(virginicaSepal)[0], np.transpose(virginicaSepal)[1]))\n",
    "\n",
    "stdSetosa = np.std(setosaSepal,0, ddof = 1)\n",
    "stdVersicolor = np.std(versicolorSepal,0, ddof = 1)\n",
    "stdVirginica = np.std(virginicaSepal,0, ddof = 1)\n",
    "# Ecart-type \n",
    "print (\"\\nEcart-type Setosa : \", stdSetosa)\n",
    "print (\"Ecart-type Versicolor : \", stdVersicolor)\n",
    "print (\"Ecart-type Virginica : \", stdVirginica)"
   ]
  },
  {
   "cell_type": "code",
   "execution_count": 125,
   "metadata": {},
   "outputs": [
    {
     "name": "stdout",
     "output_type": "stream",
     "text": [
      "J'ai un iris avec les données suivantes : l =  4.8  et w =  3.0\n",
      "Proba que l'iris soit un Setosa =  0.19809115506036956\n",
      "Proba que l'iris soit un Versicolor =  0.03170898726536254\n",
      "Proba que l'iris soit un Virginica =  0.0014870606711950907\n"
     ]
    }
   ],
   "source": [
    "l = 4.8\n",
    "w = 3.0\n",
    "\n",
    "print (\"J'ai un iris avec les données suivantes : l = \", l, \" et w = \", w)\n",
    "# SETOSA \n",
    "pSetosaLength = scipy.stats.norm.pdf(l,moySetosa[0],stdSetosa[0])\n",
    "pSetosaWidth = scipy.stats.norm.pdf(w,moySetosa[1],stdSetosa[1])\n",
    "probaSetosa = pSetosaLength * pSetosaWidth * pSetosa \n",
    "print (\"Proba que l'iris soit un Setosa = \", probaSetosa)\n",
    "\n",
    "# VERSICOLOR\n",
    "pVersicolorLength = scipy.stats.norm.pdf(l,moyVersicolor[0],stdVersicolor[0])\n",
    "pVersicolorWidth = scipy.stats.norm.pdf(w,moyVersicolor[1],stdVersicolor[1])\n",
    "probaVersicolor = pVersicolorLength * pVersicolorWidth * pVersicolor \n",
    "print (\"Proba que l'iris soit un Versicolor = \", probaVersicolor)\n",
    "\n",
    "\n",
    "# VIRGINICA\n",
    "pVirginicaLength = scipy.stats.norm.pdf(l,moyVirginica[0],stdVirginica[0])\n",
    "pVirginicaWidth = scipy.stats.norm.pdf(w,moyVirginica[1],stdVirginica[1])\n",
    "probaVirginica = pVirginicaLength * pVirginicaWidth * pVirginica \n",
    "print (\"Proba que l'iris soit un Virginica = \", probaVirginica)\n"
   ]
  },
  {
   "cell_type": "markdown",
   "metadata": {},
   "source": [
    "### 3) Phase de développement"
   ]
  },
  {
   "cell_type": "markdown",
   "metadata": {},
   "source": [
    "### 4) Phase d'évaluation"
   ]
  },
  {
   "cell_type": "code",
   "execution_count": null,
   "metadata": {},
   "outputs": [],
   "source": []
  }
 ],
 "metadata": {
  "kernelspec": {
   "display_name": "Python 3",
   "language": "python",
   "name": "python3"
  }
 },
 "nbformat": 4,
 "nbformat_minor": 5
}
